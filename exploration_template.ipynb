{
 "cells": [
  {
   "cell_type": "markdown",
   "metadata": {
    "toc": true
   },
   "source": [
    "<h1>Table of Contents<span class=\"tocSkip\"></span></h1>\n",
    "<div class=\"toc\"><ul class=\"toc-item\"><li><span><a href=\"#Ford-GoBike-System-Data\" data-toc-modified-id=\"Ford-GoBike-System-Data-1\">Ford GoBike System Data</a></span><ul class=\"toc-item\"><li><span><a href=\"#by-Joel-Minier-Matar\" data-toc-modified-id=\"by-Joel-Minier-Matar-1.1\">by Joel Minier-Matar</a></span></li><li><span><a href=\"#Preliminary-Wrangling\" data-toc-modified-id=\"Preliminary-Wrangling-1.2\">Preliminary Wrangling</a></span></li><li><span><a href=\"#Univariate-Exploration\" data-toc-modified-id=\"Univariate-Exploration-1.3\">Univariate Exploration</a></span></li><li><span><a href=\"#Bivariate-Exploration\" data-toc-modified-id=\"Bivariate-Exploration-1.4\">Bivariate Exploration</a></span><ul class=\"toc-item\"><li><span><a href=\"#Talk-about-some-of-the-relationships-you-observed-in-this-part-of-the-investigation.-How-did-the-feature(s)-of-interest-vary-with-other-features-in-the-dataset?\" data-toc-modified-id=\"Talk-about-some-of-the-relationships-you-observed-in-this-part-of-the-investigation.-How-did-the-feature(s)-of-interest-vary-with-other-features-in-the-dataset?-1.4.1\">Talk about some of the relationships you observed in this part of the investigation. How did the feature(s) of interest vary with other features in the dataset?</a></span></li><li><span><a href=\"#Did-you-observe-any-interesting-relationships-between-the-other-features-(not-the-main-feature(s)-of-interest)?\" data-toc-modified-id=\"Did-you-observe-any-interesting-relationships-between-the-other-features-(not-the-main-feature(s)-of-interest)?-1.4.2\">Did you observe any interesting relationships between the other features (not the main feature(s) of interest)?</a></span></li><li><span><a href=\"#What-is-the-structure-of-your-dataset?\" data-toc-modified-id=\"What-is-the-structure-of-your-dataset?-1.4.3\">What is the structure of your dataset?</a></span></li><li><span><a href=\"#What-is/are-the-main-feature(s)-of-interest-in-your-dataset?\" data-toc-modified-id=\"What-is/are-the-main-feature(s)-of-interest-in-your-dataset?-1.4.4\">What is/are the main feature(s) of interest in your dataset?</a></span></li><li><span><a href=\"#What-features-in-the-dataset-do-you-think-will-help-support-your-investigation-into-your-feature(s)-of-interest?\" data-toc-modified-id=\"What-features-in-the-dataset-do-you-think-will-help-support-your-investigation-into-your-feature(s)-of-interest?-1.4.5\">What features in the dataset do you think will help support your investigation into your feature(s) of interest?</a></span></li></ul></li><li><span><a href=\"#Univariate-Exploration\" data-toc-modified-id=\"Univariate-Exploration-1.5\">Univariate Exploration</a></span><ul class=\"toc-item\"><li><span><a href=\"#Discuss-the-distribution(s)-of-your-variable(s)-of-interest.-Were-there-any-unusual-points?-Did-you-need-to-perform-any-transformations?\" data-toc-modified-id=\"Discuss-the-distribution(s)-of-your-variable(s)-of-interest.-Were-there-any-unusual-points?-Did-you-need-to-perform-any-transformations?-1.5.1\">Discuss the distribution(s) of your variable(s) of interest. Were there any unusual points? Did you need to perform any transformations?</a></span></li><li><span><a href=\"#Of-the-features-you-investigated,-were-there-any-unusual-distributions?-Did-you-perform-any-operations-on-the-data-to-tidy,-adjust,-or-change-the-form-of-the-data?-If-so,-why-did-you-do-this?\" data-toc-modified-id=\"Of-the-features-you-investigated,-were-there-any-unusual-distributions?-Did-you-perform-any-operations-on-the-data-to-tidy,-adjust,-or-change-the-form-of-the-data?-If-so,-why-did-you-do-this?-1.5.2\">Of the features you investigated, were there any unusual distributions? Did you perform any operations on the data to tidy, adjust, or change the form of the data? If so, why did you do this?</a></span></li></ul></li><li><span><a href=\"#Bivariate-Exploration\" data-toc-modified-id=\"Bivariate-Exploration-1.6\">Bivariate Exploration</a></span><ul class=\"toc-item\"><li><span><a href=\"#Talk-about-some-of-the-relationships-you-observed-in-this-part-of-the-investigation.-How-did-the-feature(s)-of-interest-vary-with-other-features-in-the-dataset?\" data-toc-modified-id=\"Talk-about-some-of-the-relationships-you-observed-in-this-part-of-the-investigation.-How-did-the-feature(s)-of-interest-vary-with-other-features-in-the-dataset?-1.6.1\">Talk about some of the relationships you observed in this part of the investigation. How did the feature(s) of interest vary with other features in the dataset?</a></span></li><li><span><a href=\"#Did-you-observe-any-interesting-relationships-between-the-other-features-(not-the-main-feature(s)-of-interest)?\" data-toc-modified-id=\"Did-you-observe-any-interesting-relationships-between-the-other-features-(not-the-main-feature(s)-of-interest)?-1.6.2\">Did you observe any interesting relationships between the other features (not the main feature(s) of interest)?</a></span></li></ul></li><li><span><a href=\"#Multivariate-Exploration\" data-toc-modified-id=\"Multivariate-Exploration-1.7\">Multivariate Exploration</a></span><ul class=\"toc-item\"><li><span><a href=\"#Talk-about-some-of-the-relationships-you-observed-in-this-part-of-the-investigation.-Were-there-features-that-strengthened-each-other-in-terms-of-looking-at-your-feature(s)-of-interest?\" data-toc-modified-id=\"Talk-about-some-of-the-relationships-you-observed-in-this-part-of-the-investigation.-Were-there-features-that-strengthened-each-other-in-terms-of-looking-at-your-feature(s)-of-interest?-1.7.1\">Talk about some of the relationships you observed in this part of the investigation. Were there features that strengthened each other in terms of looking at your feature(s) of interest?</a></span></li><li><span><a href=\"#Were-there-any-interesting-or-surprising-interactions-between-features?\" data-toc-modified-id=\"Were-there-any-interesting-or-surprising-interactions-between-features?-1.7.2\">Were there any interesting or surprising interactions between features?</a></span></li></ul></li></ul></li></ul></div>"
   ]
  },
  {
   "cell_type": "markdown",
   "metadata": {},
   "source": [
    "# Ford GoBike System Data\n",
    "## by Joel Minier-Matar\n",
    "\n",
    "## Preliminary Wrangling\n",
    "\n",
    "> Briefly introduce your dataset here."
   ]
  },
  {
   "cell_type": "code",
   "execution_count": 1,
   "metadata": {},
   "outputs": [],
   "source": [
    "# import all packages and set plots to be embedded inline\n",
    "import numpy as np\n",
    "import pandas as pd\n",
    "import matplotlib.pyplot as plt\n",
    "import seaborn as sns\n",
    "import requests \n",
    "import os\n",
    "import zipfile\n",
    "import requests, zipfile, io\n",
    "from math import sin, cos, sqrt, atan2, radians\n",
    "\n",
    "%matplotlib inline"
   ]
  },
  {
   "cell_type": "markdown",
   "metadata": {},
   "source": [
    "Downloading dataset programmatically in case we need to add additional files in the future and storing the filenames in a list to load it into Pandas"
   ]
  },
  {
   "cell_type": "code",
   "execution_count": 265,
   "metadata": {},
   "outputs": [
    {
     "name": "stdout",
     "output_type": "stream",
     "text": [
      "201904-fordgobike-tripdata.csv\n",
      "201905-baywheels-tripdata.csv\n",
      "201906-baywheels-tripdata.csv\n",
      "201907-baywheels-tripdata.csv\n"
     ]
    },
    {
     "ename": "ConnectionError",
     "evalue": "HTTPSConnectionPool(host='s3.amazonaws.com', port=443): Max retries exceeded with url: /baywheels-data/201908-baywheels-tripdata.csv.zip (Caused by NewConnectionError('<urllib3.connection.VerifiedHTTPSConnection object at 0x7fa47a03e0d0>: Failed to establish a new connection: [Errno 60] Operation timed out'))",
     "output_type": "error",
     "traceback": [
      "\u001b[0;31m---------------------------------------------------------------------------\u001b[0m",
      "\u001b[0;31mTimeoutError\u001b[0m                              Traceback (most recent call last)",
      "\u001b[0;32m~/opt/anaconda3/envs/Udacity/lib/python3.8/site-packages/urllib3/connection.py\u001b[0m in \u001b[0;36m_new_conn\u001b[0;34m(self)\u001b[0m\n\u001b[1;32m    155\u001b[0m         \u001b[0;32mtry\u001b[0m\u001b[0;34m:\u001b[0m\u001b[0;34m\u001b[0m\u001b[0;34m\u001b[0m\u001b[0m\n\u001b[0;32m--> 156\u001b[0;31m             conn = connection.create_connection(\n\u001b[0m\u001b[1;32m    157\u001b[0m                 \u001b[0;34m(\u001b[0m\u001b[0mself\u001b[0m\u001b[0;34m.\u001b[0m\u001b[0m_dns_host\u001b[0m\u001b[0;34m,\u001b[0m \u001b[0mself\u001b[0m\u001b[0;34m.\u001b[0m\u001b[0mport\u001b[0m\u001b[0;34m)\u001b[0m\u001b[0;34m,\u001b[0m \u001b[0mself\u001b[0m\u001b[0;34m.\u001b[0m\u001b[0mtimeout\u001b[0m\u001b[0;34m,\u001b[0m \u001b[0;34m**\u001b[0m\u001b[0mextra_kw\u001b[0m\u001b[0;34m\u001b[0m\u001b[0;34m\u001b[0m\u001b[0m\n",
      "\u001b[0;32m~/opt/anaconda3/envs/Udacity/lib/python3.8/site-packages/urllib3/util/connection.py\u001b[0m in \u001b[0;36mcreate_connection\u001b[0;34m(address, timeout, source_address, socket_options)\u001b[0m\n\u001b[1;32m     83\u001b[0m     \u001b[0;32mif\u001b[0m \u001b[0merr\u001b[0m \u001b[0;32mis\u001b[0m \u001b[0;32mnot\u001b[0m \u001b[0;32mNone\u001b[0m\u001b[0;34m:\u001b[0m\u001b[0;34m\u001b[0m\u001b[0;34m\u001b[0m\u001b[0m\n\u001b[0;32m---> 84\u001b[0;31m         \u001b[0;32mraise\u001b[0m \u001b[0merr\u001b[0m\u001b[0;34m\u001b[0m\u001b[0;34m\u001b[0m\u001b[0m\n\u001b[0m\u001b[1;32m     85\u001b[0m \u001b[0;34m\u001b[0m\u001b[0m\n",
      "\u001b[0;32m~/opt/anaconda3/envs/Udacity/lib/python3.8/site-packages/urllib3/util/connection.py\u001b[0m in \u001b[0;36mcreate_connection\u001b[0;34m(address, timeout, source_address, socket_options)\u001b[0m\n\u001b[1;32m     73\u001b[0m                 \u001b[0msock\u001b[0m\u001b[0;34m.\u001b[0m\u001b[0mbind\u001b[0m\u001b[0;34m(\u001b[0m\u001b[0msource_address\u001b[0m\u001b[0;34m)\u001b[0m\u001b[0;34m\u001b[0m\u001b[0;34m\u001b[0m\u001b[0m\n\u001b[0;32m---> 74\u001b[0;31m             \u001b[0msock\u001b[0m\u001b[0;34m.\u001b[0m\u001b[0mconnect\u001b[0m\u001b[0;34m(\u001b[0m\u001b[0msa\u001b[0m\u001b[0;34m)\u001b[0m\u001b[0;34m\u001b[0m\u001b[0;34m\u001b[0m\u001b[0m\n\u001b[0m\u001b[1;32m     75\u001b[0m             \u001b[0;32mreturn\u001b[0m \u001b[0msock\u001b[0m\u001b[0;34m\u001b[0m\u001b[0;34m\u001b[0m\u001b[0m\n",
      "\u001b[0;31mTimeoutError\u001b[0m: [Errno 60] Operation timed out",
      "\nDuring handling of the above exception, another exception occurred:\n",
      "\u001b[0;31mNewConnectionError\u001b[0m                        Traceback (most recent call last)",
      "\u001b[0;32m~/opt/anaconda3/envs/Udacity/lib/python3.8/site-packages/urllib3/connectionpool.py\u001b[0m in \u001b[0;36murlopen\u001b[0;34m(self, method, url, body, headers, retries, redirect, assert_same_host, timeout, pool_timeout, release_conn, chunked, body_pos, **response_kw)\u001b[0m\n\u001b[1;32m    664\u001b[0m             \u001b[0;31m# Make the request on the httplib connection object.\u001b[0m\u001b[0;34m\u001b[0m\u001b[0;34m\u001b[0m\u001b[0;34m\u001b[0m\u001b[0m\n\u001b[0;32m--> 665\u001b[0;31m             httplib_response = self._make_request(\n\u001b[0m\u001b[1;32m    666\u001b[0m                 \u001b[0mconn\u001b[0m\u001b[0;34m,\u001b[0m\u001b[0;34m\u001b[0m\u001b[0;34m\u001b[0m\u001b[0m\n",
      "\u001b[0;32m~/opt/anaconda3/envs/Udacity/lib/python3.8/site-packages/urllib3/connectionpool.py\u001b[0m in \u001b[0;36m_make_request\u001b[0;34m(self, conn, method, url, timeout, chunked, **httplib_request_kw)\u001b[0m\n\u001b[1;32m    375\u001b[0m         \u001b[0;32mtry\u001b[0m\u001b[0;34m:\u001b[0m\u001b[0;34m\u001b[0m\u001b[0;34m\u001b[0m\u001b[0m\n\u001b[0;32m--> 376\u001b[0;31m             \u001b[0mself\u001b[0m\u001b[0;34m.\u001b[0m\u001b[0m_validate_conn\u001b[0m\u001b[0;34m(\u001b[0m\u001b[0mconn\u001b[0m\u001b[0;34m)\u001b[0m\u001b[0;34m\u001b[0m\u001b[0;34m\u001b[0m\u001b[0m\n\u001b[0m\u001b[1;32m    377\u001b[0m         \u001b[0;32mexcept\u001b[0m \u001b[0;34m(\u001b[0m\u001b[0mSocketTimeout\u001b[0m\u001b[0;34m,\u001b[0m \u001b[0mBaseSSLError\u001b[0m\u001b[0;34m)\u001b[0m \u001b[0;32mas\u001b[0m \u001b[0me\u001b[0m\u001b[0;34m:\u001b[0m\u001b[0;34m\u001b[0m\u001b[0;34m\u001b[0m\u001b[0m\n",
      "\u001b[0;32m~/opt/anaconda3/envs/Udacity/lib/python3.8/site-packages/urllib3/connectionpool.py\u001b[0m in \u001b[0;36m_validate_conn\u001b[0;34m(self, conn)\u001b[0m\n\u001b[1;32m    993\u001b[0m         \u001b[0;32mif\u001b[0m \u001b[0;32mnot\u001b[0m \u001b[0mgetattr\u001b[0m\u001b[0;34m(\u001b[0m\u001b[0mconn\u001b[0m\u001b[0;34m,\u001b[0m \u001b[0;34m\"sock\"\u001b[0m\u001b[0;34m,\u001b[0m \u001b[0;32mNone\u001b[0m\u001b[0;34m)\u001b[0m\u001b[0;34m:\u001b[0m  \u001b[0;31m# AppEngine might not have  `.sock`\u001b[0m\u001b[0;34m\u001b[0m\u001b[0;34m\u001b[0m\u001b[0m\n\u001b[0;32m--> 994\u001b[0;31m             \u001b[0mconn\u001b[0m\u001b[0;34m.\u001b[0m\u001b[0mconnect\u001b[0m\u001b[0;34m(\u001b[0m\u001b[0;34m)\u001b[0m\u001b[0;34m\u001b[0m\u001b[0;34m\u001b[0m\u001b[0m\n\u001b[0m\u001b[1;32m    995\u001b[0m \u001b[0;34m\u001b[0m\u001b[0m\n",
      "\u001b[0;32m~/opt/anaconda3/envs/Udacity/lib/python3.8/site-packages/urllib3/connection.py\u001b[0m in \u001b[0;36mconnect\u001b[0;34m(self)\u001b[0m\n\u001b[1;32m    299\u001b[0m         \u001b[0;31m# Add certificate verification\u001b[0m\u001b[0;34m\u001b[0m\u001b[0;34m\u001b[0m\u001b[0;34m\u001b[0m\u001b[0m\n\u001b[0;32m--> 300\u001b[0;31m         \u001b[0mconn\u001b[0m \u001b[0;34m=\u001b[0m \u001b[0mself\u001b[0m\u001b[0;34m.\u001b[0m\u001b[0m_new_conn\u001b[0m\u001b[0;34m(\u001b[0m\u001b[0;34m)\u001b[0m\u001b[0;34m\u001b[0m\u001b[0;34m\u001b[0m\u001b[0m\n\u001b[0m\u001b[1;32m    301\u001b[0m         \u001b[0mhostname\u001b[0m \u001b[0;34m=\u001b[0m \u001b[0mself\u001b[0m\u001b[0;34m.\u001b[0m\u001b[0mhost\u001b[0m\u001b[0;34m\u001b[0m\u001b[0;34m\u001b[0m\u001b[0m\n",
      "\u001b[0;32m~/opt/anaconda3/envs/Udacity/lib/python3.8/site-packages/urllib3/connection.py\u001b[0m in \u001b[0;36m_new_conn\u001b[0;34m(self)\u001b[0m\n\u001b[1;32m    167\u001b[0m         \u001b[0;32mexcept\u001b[0m \u001b[0mSocketError\u001b[0m \u001b[0;32mas\u001b[0m \u001b[0me\u001b[0m\u001b[0;34m:\u001b[0m\u001b[0;34m\u001b[0m\u001b[0;34m\u001b[0m\u001b[0m\n\u001b[0;32m--> 168\u001b[0;31m             raise NewConnectionError(\n\u001b[0m\u001b[1;32m    169\u001b[0m                 \u001b[0mself\u001b[0m\u001b[0;34m,\u001b[0m \u001b[0;34m\"Failed to establish a new connection: %s\"\u001b[0m \u001b[0;34m%\u001b[0m \u001b[0me\u001b[0m\u001b[0;34m\u001b[0m\u001b[0;34m\u001b[0m\u001b[0m\n",
      "\u001b[0;31mNewConnectionError\u001b[0m: <urllib3.connection.VerifiedHTTPSConnection object at 0x7fa47a03e0d0>: Failed to establish a new connection: [Errno 60] Operation timed out",
      "\nDuring handling of the above exception, another exception occurred:\n",
      "\u001b[0;31mMaxRetryError\u001b[0m                             Traceback (most recent call last)",
      "\u001b[0;32m~/opt/anaconda3/envs/Udacity/lib/python3.8/site-packages/requests/adapters.py\u001b[0m in \u001b[0;36msend\u001b[0;34m(self, request, stream, timeout, verify, cert, proxies)\u001b[0m\n\u001b[1;32m    438\u001b[0m             \u001b[0;32mif\u001b[0m \u001b[0;32mnot\u001b[0m \u001b[0mchunked\u001b[0m\u001b[0;34m:\u001b[0m\u001b[0;34m\u001b[0m\u001b[0;34m\u001b[0m\u001b[0m\n\u001b[0;32m--> 439\u001b[0;31m                 resp = conn.urlopen(\n\u001b[0m\u001b[1;32m    440\u001b[0m                     \u001b[0mmethod\u001b[0m\u001b[0;34m=\u001b[0m\u001b[0mrequest\u001b[0m\u001b[0;34m.\u001b[0m\u001b[0mmethod\u001b[0m\u001b[0;34m,\u001b[0m\u001b[0;34m\u001b[0m\u001b[0;34m\u001b[0m\u001b[0m\n",
      "\u001b[0;32m~/opt/anaconda3/envs/Udacity/lib/python3.8/site-packages/urllib3/connectionpool.py\u001b[0m in \u001b[0;36murlopen\u001b[0;34m(self, method, url, body, headers, retries, redirect, assert_same_host, timeout, pool_timeout, release_conn, chunked, body_pos, **response_kw)\u001b[0m\n\u001b[1;32m    718\u001b[0m \u001b[0;34m\u001b[0m\u001b[0m\n\u001b[0;32m--> 719\u001b[0;31m             retries = retries.increment(\n\u001b[0m\u001b[1;32m    720\u001b[0m                 \u001b[0mmethod\u001b[0m\u001b[0;34m,\u001b[0m \u001b[0murl\u001b[0m\u001b[0;34m,\u001b[0m \u001b[0merror\u001b[0m\u001b[0;34m=\u001b[0m\u001b[0me\u001b[0m\u001b[0;34m,\u001b[0m \u001b[0m_pool\u001b[0m\u001b[0;34m=\u001b[0m\u001b[0mself\u001b[0m\u001b[0;34m,\u001b[0m \u001b[0m_stacktrace\u001b[0m\u001b[0;34m=\u001b[0m\u001b[0msys\u001b[0m\u001b[0;34m.\u001b[0m\u001b[0mexc_info\u001b[0m\u001b[0;34m(\u001b[0m\u001b[0;34m)\u001b[0m\u001b[0;34m[\u001b[0m\u001b[0;36m2\u001b[0m\u001b[0;34m]\u001b[0m\u001b[0;34m\u001b[0m\u001b[0;34m\u001b[0m\u001b[0m\n",
      "\u001b[0;32m~/opt/anaconda3/envs/Udacity/lib/python3.8/site-packages/urllib3/util/retry.py\u001b[0m in \u001b[0;36mincrement\u001b[0;34m(self, method, url, response, error, _pool, _stacktrace)\u001b[0m\n\u001b[1;32m    435\u001b[0m         \u001b[0;32mif\u001b[0m \u001b[0mnew_retry\u001b[0m\u001b[0;34m.\u001b[0m\u001b[0mis_exhausted\u001b[0m\u001b[0;34m(\u001b[0m\u001b[0;34m)\u001b[0m\u001b[0;34m:\u001b[0m\u001b[0;34m\u001b[0m\u001b[0;34m\u001b[0m\u001b[0m\n\u001b[0;32m--> 436\u001b[0;31m             \u001b[0;32mraise\u001b[0m \u001b[0mMaxRetryError\u001b[0m\u001b[0;34m(\u001b[0m\u001b[0m_pool\u001b[0m\u001b[0;34m,\u001b[0m \u001b[0murl\u001b[0m\u001b[0;34m,\u001b[0m \u001b[0merror\u001b[0m \u001b[0;32mor\u001b[0m \u001b[0mResponseError\u001b[0m\u001b[0;34m(\u001b[0m\u001b[0mcause\u001b[0m\u001b[0;34m)\u001b[0m\u001b[0;34m)\u001b[0m\u001b[0;34m\u001b[0m\u001b[0;34m\u001b[0m\u001b[0m\n\u001b[0m\u001b[1;32m    437\u001b[0m \u001b[0;34m\u001b[0m\u001b[0m\n",
      "\u001b[0;31mMaxRetryError\u001b[0m: HTTPSConnectionPool(host='s3.amazonaws.com', port=443): Max retries exceeded with url: /baywheels-data/201908-baywheels-tripdata.csv.zip (Caused by NewConnectionError('<urllib3.connection.VerifiedHTTPSConnection object at 0x7fa47a03e0d0>: Failed to establish a new connection: [Errno 60] Operation timed out'))",
      "\nDuring handling of the above exception, another exception occurred:\n",
      "\u001b[0;31mConnectionError\u001b[0m                           Traceback (most recent call last)",
      "\u001b[0;32m<ipython-input-265-6a19ca59d4d6>\u001b[0m in \u001b[0;36m<module>\u001b[0;34m\u001b[0m\n\u001b[1;32m      8\u001b[0m         \u001b[0mname\u001b[0m\u001b[0;34m=\u001b[0m\u001b[0;34m'baywheels'\u001b[0m\u001b[0;34m\u001b[0m\u001b[0;34m\u001b[0m\u001b[0m\n\u001b[1;32m      9\u001b[0m     \u001b[0murl\u001b[0m\u001b[0;34m=\u001b[0m\u001b[0;34m'https://s3.amazonaws.com/baywheels-data/'\u001b[0m\u001b[0;34m+\u001b[0m\u001b[0mfile_date\u001b[0m\u001b[0;34m+\u001b[0m\u001b[0;34m'-'\u001b[0m\u001b[0;34m+\u001b[0m\u001b[0mname\u001b[0m\u001b[0;34m+\u001b[0m\u001b[0;34m'-tripdata.csv.zip'\u001b[0m\u001b[0;34m\u001b[0m\u001b[0;34m\u001b[0m\u001b[0m\n\u001b[0;32m---> 10\u001b[0;31m     \u001b[0mdata_file\u001b[0m \u001b[0;34m=\u001b[0m \u001b[0mrequests\u001b[0m\u001b[0;34m.\u001b[0m\u001b[0mget\u001b[0m\u001b[0;34m(\u001b[0m\u001b[0murl\u001b[0m\u001b[0;34m)\u001b[0m\u001b[0;34m\u001b[0m\u001b[0;34m\u001b[0m\u001b[0m\n\u001b[0m\u001b[1;32m     11\u001b[0m     \u001b[0mzip_data\u001b[0m \u001b[0;34m=\u001b[0m \u001b[0mzipfile\u001b[0m\u001b[0;34m.\u001b[0m\u001b[0mZipFile\u001b[0m\u001b[0;34m(\u001b[0m\u001b[0mio\u001b[0m\u001b[0;34m.\u001b[0m\u001b[0mBytesIO\u001b[0m\u001b[0;34m(\u001b[0m\u001b[0mdata_file\u001b[0m\u001b[0;34m.\u001b[0m\u001b[0mcontent\u001b[0m\u001b[0;34m)\u001b[0m\u001b[0;34m)\u001b[0m\u001b[0;34m\u001b[0m\u001b[0;34m\u001b[0m\u001b[0m\n\u001b[1;32m     12\u001b[0m     \u001b[0mzip_data\u001b[0m\u001b[0;34m.\u001b[0m\u001b[0mextractall\u001b[0m\u001b[0;34m(\u001b[0m\u001b[0;34m\"data\"\u001b[0m\u001b[0;34m)\u001b[0m\u001b[0;34m\u001b[0m\u001b[0;34m\u001b[0m\u001b[0m\n",
      "\u001b[0;32m~/opt/anaconda3/envs/Udacity/lib/python3.8/site-packages/requests/api.py\u001b[0m in \u001b[0;36mget\u001b[0;34m(url, params, **kwargs)\u001b[0m\n\u001b[1;32m     74\u001b[0m \u001b[0;34m\u001b[0m\u001b[0m\n\u001b[1;32m     75\u001b[0m     \u001b[0mkwargs\u001b[0m\u001b[0;34m.\u001b[0m\u001b[0msetdefault\u001b[0m\u001b[0;34m(\u001b[0m\u001b[0;34m'allow_redirects'\u001b[0m\u001b[0;34m,\u001b[0m \u001b[0;32mTrue\u001b[0m\u001b[0;34m)\u001b[0m\u001b[0;34m\u001b[0m\u001b[0;34m\u001b[0m\u001b[0m\n\u001b[0;32m---> 76\u001b[0;31m     \u001b[0;32mreturn\u001b[0m \u001b[0mrequest\u001b[0m\u001b[0;34m(\u001b[0m\u001b[0;34m'get'\u001b[0m\u001b[0;34m,\u001b[0m \u001b[0murl\u001b[0m\u001b[0;34m,\u001b[0m \u001b[0mparams\u001b[0m\u001b[0;34m=\u001b[0m\u001b[0mparams\u001b[0m\u001b[0;34m,\u001b[0m \u001b[0;34m**\u001b[0m\u001b[0mkwargs\u001b[0m\u001b[0;34m)\u001b[0m\u001b[0;34m\u001b[0m\u001b[0;34m\u001b[0m\u001b[0m\n\u001b[0m\u001b[1;32m     77\u001b[0m \u001b[0;34m\u001b[0m\u001b[0m\n\u001b[1;32m     78\u001b[0m \u001b[0;34m\u001b[0m\u001b[0m\n",
      "\u001b[0;32m~/opt/anaconda3/envs/Udacity/lib/python3.8/site-packages/requests/api.py\u001b[0m in \u001b[0;36mrequest\u001b[0;34m(method, url, **kwargs)\u001b[0m\n\u001b[1;32m     59\u001b[0m     \u001b[0;31m# cases, and look like a memory leak in others.\u001b[0m\u001b[0;34m\u001b[0m\u001b[0;34m\u001b[0m\u001b[0;34m\u001b[0m\u001b[0m\n\u001b[1;32m     60\u001b[0m     \u001b[0;32mwith\u001b[0m \u001b[0msessions\u001b[0m\u001b[0;34m.\u001b[0m\u001b[0mSession\u001b[0m\u001b[0;34m(\u001b[0m\u001b[0;34m)\u001b[0m \u001b[0;32mas\u001b[0m \u001b[0msession\u001b[0m\u001b[0;34m:\u001b[0m\u001b[0;34m\u001b[0m\u001b[0;34m\u001b[0m\u001b[0m\n\u001b[0;32m---> 61\u001b[0;31m         \u001b[0;32mreturn\u001b[0m \u001b[0msession\u001b[0m\u001b[0;34m.\u001b[0m\u001b[0mrequest\u001b[0m\u001b[0;34m(\u001b[0m\u001b[0mmethod\u001b[0m\u001b[0;34m=\u001b[0m\u001b[0mmethod\u001b[0m\u001b[0;34m,\u001b[0m \u001b[0murl\u001b[0m\u001b[0;34m=\u001b[0m\u001b[0murl\u001b[0m\u001b[0;34m,\u001b[0m \u001b[0;34m**\u001b[0m\u001b[0mkwargs\u001b[0m\u001b[0;34m)\u001b[0m\u001b[0;34m\u001b[0m\u001b[0;34m\u001b[0m\u001b[0m\n\u001b[0m\u001b[1;32m     62\u001b[0m \u001b[0;34m\u001b[0m\u001b[0m\n\u001b[1;32m     63\u001b[0m \u001b[0;34m\u001b[0m\u001b[0m\n",
      "\u001b[0;32m~/opt/anaconda3/envs/Udacity/lib/python3.8/site-packages/requests/sessions.py\u001b[0m in \u001b[0;36mrequest\u001b[0;34m(self, method, url, params, data, headers, cookies, files, auth, timeout, allow_redirects, proxies, hooks, stream, verify, cert, json)\u001b[0m\n\u001b[1;32m    528\u001b[0m         }\n\u001b[1;32m    529\u001b[0m         \u001b[0msend_kwargs\u001b[0m\u001b[0;34m.\u001b[0m\u001b[0mupdate\u001b[0m\u001b[0;34m(\u001b[0m\u001b[0msettings\u001b[0m\u001b[0;34m)\u001b[0m\u001b[0;34m\u001b[0m\u001b[0;34m\u001b[0m\u001b[0m\n\u001b[0;32m--> 530\u001b[0;31m         \u001b[0mresp\u001b[0m \u001b[0;34m=\u001b[0m \u001b[0mself\u001b[0m\u001b[0;34m.\u001b[0m\u001b[0msend\u001b[0m\u001b[0;34m(\u001b[0m\u001b[0mprep\u001b[0m\u001b[0;34m,\u001b[0m \u001b[0;34m**\u001b[0m\u001b[0msend_kwargs\u001b[0m\u001b[0;34m)\u001b[0m\u001b[0;34m\u001b[0m\u001b[0;34m\u001b[0m\u001b[0m\n\u001b[0m\u001b[1;32m    531\u001b[0m \u001b[0;34m\u001b[0m\u001b[0m\n\u001b[1;32m    532\u001b[0m         \u001b[0;32mreturn\u001b[0m \u001b[0mresp\u001b[0m\u001b[0;34m\u001b[0m\u001b[0;34m\u001b[0m\u001b[0m\n",
      "\u001b[0;32m~/opt/anaconda3/envs/Udacity/lib/python3.8/site-packages/requests/sessions.py\u001b[0m in \u001b[0;36msend\u001b[0;34m(self, request, **kwargs)\u001b[0m\n\u001b[1;32m    641\u001b[0m \u001b[0;34m\u001b[0m\u001b[0m\n\u001b[1;32m    642\u001b[0m         \u001b[0;31m# Send the request\u001b[0m\u001b[0;34m\u001b[0m\u001b[0;34m\u001b[0m\u001b[0;34m\u001b[0m\u001b[0m\n\u001b[0;32m--> 643\u001b[0;31m         \u001b[0mr\u001b[0m \u001b[0;34m=\u001b[0m \u001b[0madapter\u001b[0m\u001b[0;34m.\u001b[0m\u001b[0msend\u001b[0m\u001b[0;34m(\u001b[0m\u001b[0mrequest\u001b[0m\u001b[0;34m,\u001b[0m \u001b[0;34m**\u001b[0m\u001b[0mkwargs\u001b[0m\u001b[0;34m)\u001b[0m\u001b[0;34m\u001b[0m\u001b[0;34m\u001b[0m\u001b[0m\n\u001b[0m\u001b[1;32m    644\u001b[0m \u001b[0;34m\u001b[0m\u001b[0m\n\u001b[1;32m    645\u001b[0m         \u001b[0;31m# Total elapsed time of the request (approximately)\u001b[0m\u001b[0;34m\u001b[0m\u001b[0;34m\u001b[0m\u001b[0;34m\u001b[0m\u001b[0m\n",
      "\u001b[0;32m~/opt/anaconda3/envs/Udacity/lib/python3.8/site-packages/requests/adapters.py\u001b[0m in \u001b[0;36msend\u001b[0;34m(self, request, stream, timeout, verify, cert, proxies)\u001b[0m\n\u001b[1;32m    514\u001b[0m                 \u001b[0;32mraise\u001b[0m \u001b[0mSSLError\u001b[0m\u001b[0;34m(\u001b[0m\u001b[0me\u001b[0m\u001b[0;34m,\u001b[0m \u001b[0mrequest\u001b[0m\u001b[0;34m=\u001b[0m\u001b[0mrequest\u001b[0m\u001b[0;34m)\u001b[0m\u001b[0;34m\u001b[0m\u001b[0;34m\u001b[0m\u001b[0m\n\u001b[1;32m    515\u001b[0m \u001b[0;34m\u001b[0m\u001b[0m\n\u001b[0;32m--> 516\u001b[0;31m             \u001b[0;32mraise\u001b[0m \u001b[0mConnectionError\u001b[0m\u001b[0;34m(\u001b[0m\u001b[0me\u001b[0m\u001b[0;34m,\u001b[0m \u001b[0mrequest\u001b[0m\u001b[0;34m=\u001b[0m\u001b[0mrequest\u001b[0m\u001b[0;34m)\u001b[0m\u001b[0;34m\u001b[0m\u001b[0;34m\u001b[0m\u001b[0m\n\u001b[0m\u001b[1;32m    517\u001b[0m \u001b[0;34m\u001b[0m\u001b[0m\n\u001b[1;32m    518\u001b[0m         \u001b[0;32mexcept\u001b[0m \u001b[0mClosedPoolError\u001b[0m \u001b[0;32mas\u001b[0m \u001b[0me\u001b[0m\u001b[0;34m:\u001b[0m\u001b[0;34m\u001b[0m\u001b[0;34m\u001b[0m\u001b[0m\n",
      "\u001b[0;31mConnectionError\u001b[0m: HTTPSConnectionPool(host='s3.amazonaws.com', port=443): Max retries exceeded with url: /baywheels-data/201908-baywheels-tripdata.csv.zip (Caused by NewConnectionError('<urllib3.connection.VerifiedHTTPSConnection object at 0x7fa47a03e0d0>: Failed to establish a new connection: [Errno 60] Operation timed out'))"
     ]
    }
   ],
   "source": [
    "\n",
    "#Data source: https://www.lyft.com/bikes/bay-wheels/system-data\n",
    "data_to_download=['201904','201905','201906','201907','201908','201909','201910','201911','201912','202001','202002','202003']\n",
    "for file_date in data_to_download:\n",
    "    if int(file_date)<201905: #adjusting filenames to account for file name change\n",
    "        name='fordgobike'\n",
    "    else:\n",
    "        name='baywheels'\n",
    "    url='https://s3.amazonaws.com/baywheels-data/'+file_date+'-'+name+'-tripdata.csv.zip'\n",
    "    data_file = requests.get(url)\n",
    "    zip_data = zipfile.ZipFile(io.BytesIO(data_file.content))\n",
    "    zip_data.extractall(\"data\")\n",
    "    print(url.split('/')[-1][:-4])#printing the filename to track the downloaded files\n",
    "\n"
   ]
  },
  {
   "cell_type": "code",
   "execution_count": 2,
   "metadata": {},
   "outputs": [
    {
     "data": {
      "text/plain": [
       "['201904-fordgobike-tripdata.csv',\n",
       " '201905-baywheels-tripdata.csv',\n",
       " '201906-baywheels-tripdata.csv',\n",
       " '201907-baywheels-tripdata.csv',\n",
       " '201908-baywheels-tripdata.csv',\n",
       " '201909-baywheels-tripdata.csv',\n",
       " '201910-baywheels-tripdata.csv',\n",
       " '201911-baywheels-tripdata.csv',\n",
       " '201912-baywheels-tripdata.csv',\n",
       " '202001-baywheels-tripdata.csv',\n",
       " '202002-baywheels-tripdata.csv',\n",
       " '202003-baywheels-tripdata.csv']"
      ]
     },
     "execution_count": 2,
     "metadata": {},
     "output_type": "execute_result"
    }
   ],
   "source": [
    "#creating filename list to load files into pandas\n",
    "data_to_download=['201904','201905','201906','201907','201908','201909','201910','201911','201912','202001','202002','202003']\n",
    "filenames=[]\n",
    "for file_date in data_to_download:\n",
    "    if int(file_date)<201905: #adjusting filenames to account for file name change\n",
    "        name='fordgobike'\n",
    "    else:\n",
    "        name='baywheels'\n",
    "    filenames.append(file_date+'-'+name+'-tripdata.csv')\n",
    "filenames\n"
   ]
  },
  {
   "cell_type": "code",
   "execution_count": 3,
   "metadata": {
    "scrolled": true
   },
   "outputs": [
    {
     "name": "stderr",
     "output_type": "stream",
     "text": [
      "/Users/jmmk/opt/anaconda3/envs/Udacity/lib/python3.8/site-packages/IPython/core/interactiveshell.py:3062: DtypeWarning: Columns (14) have mixed types.Specify dtype option on import or set low_memory=False.\n",
      "  has_raised = await self.run_ast_nodes(code_ast.body, cell_name,\n",
      "/Users/jmmk/opt/anaconda3/envs/Udacity/lib/python3.8/site-packages/IPython/core/interactiveshell.py:3062: DtypeWarning: Columns (13,14) have mixed types.Specify dtype option on import or set low_memory=False.\n",
      "  has_raised = await self.run_ast_nodes(code_ast.body, cell_name,\n",
      "/Users/jmmk/opt/anaconda3/envs/Udacity/lib/python3.8/site-packages/IPython/core/interactiveshell.py:3062: DtypeWarning: Columns (13) have mixed types.Specify dtype option on import or set low_memory=False.\n",
      "  has_raised = await self.run_ast_nodes(code_ast.body, cell_name,\n"
     ]
    },
    {
     "name": "stdout",
     "output_type": "stream",
     "text": [
      "<class 'pandas.core.frame.DataFrame'>\n",
      "Int64Index: 2780197 entries, 0 to 176798\n",
      "Data columns (total 15 columns):\n",
      " #   Column                   Dtype  \n",
      "---  ------                   -----  \n",
      " 0   duration_sec             int64  \n",
      " 1   start_time               object \n",
      " 2   end_time                 object \n",
      " 3   start_station_id         float64\n",
      " 4   start_station_name       object \n",
      " 5   start_station_latitude   float64\n",
      " 6   start_station_longitude  float64\n",
      " 7   end_station_id           float64\n",
      " 8   end_station_name         object \n",
      " 9   end_station_latitude     float64\n",
      " 10  end_station_longitude    float64\n",
      " 11  bike_id                  int64  \n",
      " 12  user_type                object \n",
      " 13  bike_share_for_all_trip  object \n",
      " 14  rental_access_method     object \n",
      "dtypes: float64(6), int64(2), object(7)\n",
      "memory usage: 339.4+ MB\n"
     ]
    }
   ],
   "source": [
    "#loading all the data files into a single dataframe\n",
    "df=pd.DataFrame()\n",
    "for name in filenames:    \n",
    "    data=pd.read_csv(\"data/\"+name)\n",
    "    df=pd.concat([df,data])\n",
    "    \n",
    "df.info()"
   ]
  },
  {
   "cell_type": "code",
   "execution_count": 4,
   "metadata": {
    "scrolled": true
   },
   "outputs": [
    {
     "data": {
      "text/plain": [
       "duration_sec                     0\n",
       "start_time                       0\n",
       "end_time                         0\n",
       "start_station_id            566370\n",
       "start_station_name          564536\n",
       "start_station_latitude           0\n",
       "start_station_longitude          0\n",
       "end_station_id              568018\n",
       "end_station_name            566192\n",
       "end_station_latitude             0\n",
       "end_station_longitude            0\n",
       "bike_id                          0\n",
       "user_type                        0\n",
       "bike_share_for_all_trip    1148266\n",
       "rental_access_method       2041501\n",
       "dtype: int64"
      ]
     },
     "execution_count": 4,
     "metadata": {},
     "output_type": "execute_result"
    }
   ],
   "source": [
    "df.isnull().sum()"
   ]
  },
  {
   "cell_type": "code",
   "execution_count": 5,
   "metadata": {
    "scrolled": true
   },
   "outputs": [
    {
     "data": {
      "text/html": [
       "<div>\n",
       "<style scoped>\n",
       "    .dataframe tbody tr th:only-of-type {\n",
       "        vertical-align: middle;\n",
       "    }\n",
       "\n",
       "    .dataframe tbody tr th {\n",
       "        vertical-align: top;\n",
       "    }\n",
       "\n",
       "    .dataframe thead th {\n",
       "        text-align: right;\n",
       "    }\n",
       "</style>\n",
       "<table border=\"1\" class=\"dataframe\">\n",
       "  <thead>\n",
       "    <tr style=\"text-align: right;\">\n",
       "      <th></th>\n",
       "      <th>duration_sec</th>\n",
       "      <th>start_station_id</th>\n",
       "      <th>start_station_latitude</th>\n",
       "      <th>start_station_longitude</th>\n",
       "      <th>end_station_id</th>\n",
       "      <th>end_station_latitude</th>\n",
       "      <th>end_station_longitude</th>\n",
       "      <th>bike_id</th>\n",
       "    </tr>\n",
       "  </thead>\n",
       "  <tbody>\n",
       "    <tr>\n",
       "      <th>count</th>\n",
       "      <td>2.780197e+06</td>\n",
       "      <td>2.213827e+06</td>\n",
       "      <td>2.780197e+06</td>\n",
       "      <td>2.780197e+06</td>\n",
       "      <td>2.212179e+06</td>\n",
       "      <td>2.780197e+06</td>\n",
       "      <td>2.780197e+06</td>\n",
       "      <td>2.780197e+06</td>\n",
       "    </tr>\n",
       "    <tr>\n",
       "      <th>mean</th>\n",
       "      <td>8.166443e+02</td>\n",
       "      <td>1.544218e+02</td>\n",
       "      <td>3.775789e+01</td>\n",
       "      <td>-1.223509e+02</td>\n",
       "      <td>1.494351e+02</td>\n",
       "      <td>3.775695e+01</td>\n",
       "      <td>-1.223467e+02</td>\n",
       "      <td>1.365178e+05</td>\n",
       "    </tr>\n",
       "    <tr>\n",
       "      <th>std</th>\n",
       "      <td>1.899538e+03</td>\n",
       "      <td>1.300140e+02</td>\n",
       "      <td>1.783507e-01</td>\n",
       "      <td>4.679862e-01</td>\n",
       "      <td>1.289548e+02</td>\n",
       "      <td>2.707893e-01</td>\n",
       "      <td>8.093102e-01</td>\n",
       "      <td>2.511721e+05</td>\n",
       "    </tr>\n",
       "    <tr>\n",
       "      <th>min</th>\n",
       "      <td>6.000000e+01</td>\n",
       "      <td>3.000000e+00</td>\n",
       "      <td>0.000000e+00</td>\n",
       "      <td>-1.225143e+02</td>\n",
       "      <td>3.000000e+00</td>\n",
       "      <td>0.000000e+00</td>\n",
       "      <td>-1.225758e+02</td>\n",
       "      <td>4.000000e+00</td>\n",
       "    </tr>\n",
       "    <tr>\n",
       "      <th>25%</th>\n",
       "      <td>3.690000e+02</td>\n",
       "      <td>5.000000e+01</td>\n",
       "      <td>3.776710e+01</td>\n",
       "      <td>-1.224167e+02</td>\n",
       "      <td>4.300000e+01</td>\n",
       "      <td>3.776811e+01</td>\n",
       "      <td>-1.224147e+02</td>\n",
       "      <td>2.299000e+03</td>\n",
       "    </tr>\n",
       "    <tr>\n",
       "      <th>50%</th>\n",
       "      <td>5.880000e+02</td>\n",
       "      <td>1.090000e+02</td>\n",
       "      <td>3.777874e+01</td>\n",
       "      <td>-1.224000e+02</td>\n",
       "      <td>1.040000e+02</td>\n",
       "      <td>3.777877e+01</td>\n",
       "      <td>-1.223991e+02</td>\n",
       "      <td>9.787000e+03</td>\n",
       "    </tr>\n",
       "    <tr>\n",
       "      <th>75%</th>\n",
       "      <td>9.150000e+02</td>\n",
       "      <td>2.470000e+02</td>\n",
       "      <td>3.779423e+01</td>\n",
       "      <td>-1.223898e+02</td>\n",
       "      <td>2.440000e+02</td>\n",
       "      <td>3.779455e+01</td>\n",
       "      <td>-1.223898e+02</td>\n",
       "      <td>1.514520e+05</td>\n",
       "    </tr>\n",
       "    <tr>\n",
       "      <th>max</th>\n",
       "      <td>9.121100e+05</td>\n",
       "      <td>5.210000e+02</td>\n",
       "      <td>4.551000e+01</td>\n",
       "      <td>0.000000e+00</td>\n",
       "      <td>5.210000e+02</td>\n",
       "      <td>4.551000e+01</td>\n",
       "      <td>0.000000e+00</td>\n",
       "      <td>9.999600e+05</td>\n",
       "    </tr>\n",
       "  </tbody>\n",
       "</table>\n",
       "</div>"
      ],
      "text/plain": [
       "       duration_sec  start_station_id  start_station_latitude  \\\n",
       "count  2.780197e+06      2.213827e+06            2.780197e+06   \n",
       "mean   8.166443e+02      1.544218e+02            3.775789e+01   \n",
       "std    1.899538e+03      1.300140e+02            1.783507e-01   \n",
       "min    6.000000e+01      3.000000e+00            0.000000e+00   \n",
       "25%    3.690000e+02      5.000000e+01            3.776710e+01   \n",
       "50%    5.880000e+02      1.090000e+02            3.777874e+01   \n",
       "75%    9.150000e+02      2.470000e+02            3.779423e+01   \n",
       "max    9.121100e+05      5.210000e+02            4.551000e+01   \n",
       "\n",
       "       start_station_longitude  end_station_id  end_station_latitude  \\\n",
       "count             2.780197e+06    2.212179e+06          2.780197e+06   \n",
       "mean             -1.223509e+02    1.494351e+02          3.775695e+01   \n",
       "std               4.679862e-01    1.289548e+02          2.707893e-01   \n",
       "min              -1.225143e+02    3.000000e+00          0.000000e+00   \n",
       "25%              -1.224167e+02    4.300000e+01          3.776811e+01   \n",
       "50%              -1.224000e+02    1.040000e+02          3.777877e+01   \n",
       "75%              -1.223898e+02    2.440000e+02          3.779455e+01   \n",
       "max               0.000000e+00    5.210000e+02          4.551000e+01   \n",
       "\n",
       "       end_station_longitude       bike_id  \n",
       "count           2.780197e+06  2.780197e+06  \n",
       "mean           -1.223467e+02  1.365178e+05  \n",
       "std             8.093102e-01  2.511721e+05  \n",
       "min            -1.225758e+02  4.000000e+00  \n",
       "25%            -1.224147e+02  2.299000e+03  \n",
       "50%            -1.223991e+02  9.787000e+03  \n",
       "75%            -1.223898e+02  1.514520e+05  \n",
       "max             0.000000e+00  9.999600e+05  "
      ]
     },
     "execution_count": 5,
     "metadata": {},
     "output_type": "execute_result"
    }
   ],
   "source": [
    "df.describe()"
   ]
  },
  {
   "cell_type": "code",
   "execution_count": 6,
   "metadata": {
    "scrolled": true
   },
   "outputs": [
    {
     "data": {
      "text/plain": [
       "4060.0"
      ]
     },
     "execution_count": 6,
     "metadata": {},
     "output_type": "execute_result"
    }
   ],
   "source": [
    "df.duration_sec.quantile(0.99)"
   ]
  },
  {
   "cell_type": "code",
   "execution_count": 7,
   "metadata": {
    "scrolled": false
   },
   "outputs": [
    {
     "data": {
      "text/plain": [
       "duration_sec               27803\n",
       "start_time                 27803\n",
       "end_time                   27803\n",
       "start_station_id           23092\n",
       "start_station_name         23108\n",
       "start_station_latitude     27803\n",
       "start_station_longitude    27803\n",
       "end_station_id             22568\n",
       "end_station_name           22587\n",
       "end_station_latitude       27803\n",
       "end_station_longitude      27803\n",
       "bike_id                    27803\n",
       "user_type                  27803\n",
       "bike_share_for_all_trip    16732\n",
       "rental_access_method        6356\n",
       "dtype: int64"
      ]
     },
     "execution_count": 7,
     "metadata": {},
     "output_type": "execute_result"
    }
   ],
   "source": [
    "df[df['duration_sec']>=4060].count()"
   ]
  },
  {
   "cell_type": "markdown",
   "metadata": {},
   "source": [
    "The `bike_share_for_all_trip` and `rental_access_method` columns have some missing values to keep in mind while analyzing the data\n"
   ]
  },
  {
   "cell_type": "markdown",
   "metadata": {},
   "source": [
    "Cleaning points\n",
    "- remove entries with durations above the 95 percentile (1803 sec)\n",
    "- Convert `start time` and `end_time` to timestamp\n",
    "- add start months and year"
   ]
  },
  {
   "cell_type": "markdown",
   "metadata": {},
   "source": [
    "Making a copy of the database"
   ]
  },
  {
   "cell_type": "code",
   "execution_count": 8,
   "metadata": {},
   "outputs": [],
   "source": [
    "df_clean=df.copy()"
   ]
  },
  {
   "cell_type": "code",
   "execution_count": 9,
   "metadata": {
    "scrolled": false
   },
   "outputs": [
    {
     "data": {
      "text/html": [
       "<div>\n",
       "<style scoped>\n",
       "    .dataframe tbody tr th:only-of-type {\n",
       "        vertical-align: middle;\n",
       "    }\n",
       "\n",
       "    .dataframe tbody tr th {\n",
       "        vertical-align: top;\n",
       "    }\n",
       "\n",
       "    .dataframe thead th {\n",
       "        text-align: right;\n",
       "    }\n",
       "</style>\n",
       "<table border=\"1\" class=\"dataframe\">\n",
       "  <thead>\n",
       "    <tr style=\"text-align: right;\">\n",
       "      <th></th>\n",
       "      <th>duration_sec</th>\n",
       "      <th>start_station_id</th>\n",
       "      <th>start_station_latitude</th>\n",
       "      <th>start_station_longitude</th>\n",
       "      <th>end_station_id</th>\n",
       "      <th>end_station_latitude</th>\n",
       "      <th>end_station_longitude</th>\n",
       "      <th>bike_id</th>\n",
       "    </tr>\n",
       "  </thead>\n",
       "  <tbody>\n",
       "    <tr>\n",
       "      <th>count</th>\n",
       "      <td>2.752401e+06</td>\n",
       "      <td>2.190740e+06</td>\n",
       "      <td>2.752401e+06</td>\n",
       "      <td>2.752401e+06</td>\n",
       "      <td>2.189616e+06</td>\n",
       "      <td>2.752401e+06</td>\n",
       "      <td>2.752401e+06</td>\n",
       "      <td>2.752401e+06</td>\n",
       "    </tr>\n",
       "    <tr>\n",
       "      <th>mean</th>\n",
       "      <td>7.138244e+02</td>\n",
       "      <td>1.539936e+02</td>\n",
       "      <td>3.775783e+01</td>\n",
       "      <td>-1.223507e+02</td>\n",
       "      <td>1.486301e+02</td>\n",
       "      <td>3.775768e+01</td>\n",
       "      <td>-1.223491e+02</td>\n",
       "      <td>1.367143e+05</td>\n",
       "    </tr>\n",
       "    <tr>\n",
       "      <th>std</th>\n",
       "      <td>5.182559e+02</td>\n",
       "      <td>1.295616e+02</td>\n",
       "      <td>1.788484e-01</td>\n",
       "      <td>4.692365e-01</td>\n",
       "      <td>1.282719e+02</td>\n",
       "      <td>2.069899e-01</td>\n",
       "      <td>5.781337e-01</td>\n",
       "      <td>2.513152e+05</td>\n",
       "    </tr>\n",
       "    <tr>\n",
       "      <th>min</th>\n",
       "      <td>6.000000e+01</td>\n",
       "      <td>3.000000e+00</td>\n",
       "      <td>0.000000e+00</td>\n",
       "      <td>-1.225143e+02</td>\n",
       "      <td>3.000000e+00</td>\n",
       "      <td>0.000000e+00</td>\n",
       "      <td>-1.225143e+02</td>\n",
       "      <td>4.000000e+00</td>\n",
       "    </tr>\n",
       "    <tr>\n",
       "      <th>25%</th>\n",
       "      <td>3.670000e+02</td>\n",
       "      <td>5.000000e+01</td>\n",
       "      <td>3.776710e+01</td>\n",
       "      <td>-1.224165e+02</td>\n",
       "      <td>4.300000e+01</td>\n",
       "      <td>3.776794e+01</td>\n",
       "      <td>-1.224139e+02</td>\n",
       "      <td>2.299000e+03</td>\n",
       "    </tr>\n",
       "    <tr>\n",
       "      <th>50%</th>\n",
       "      <td>5.830000e+02</td>\n",
       "      <td>1.090000e+02</td>\n",
       "      <td>3.777874e+01</td>\n",
       "      <td>-1.223998e+02</td>\n",
       "      <td>1.040000e+02</td>\n",
       "      <td>3.777877e+01</td>\n",
       "      <td>-1.223991e+02</td>\n",
       "      <td>9.789000e+03</td>\n",
       "    </tr>\n",
       "    <tr>\n",
       "      <th>75%</th>\n",
       "      <td>9.010000e+02</td>\n",
       "      <td>2.460000e+02</td>\n",
       "      <td>3.779416e+01</td>\n",
       "      <td>-1.223896e+02</td>\n",
       "      <td>2.430000e+02</td>\n",
       "      <td>3.779450e+01</td>\n",
       "      <td>-1.223896e+02</td>\n",
       "      <td>1.530070e+05</td>\n",
       "    </tr>\n",
       "    <tr>\n",
       "      <th>max</th>\n",
       "      <td>4.060000e+03</td>\n",
       "      <td>5.210000e+02</td>\n",
       "      <td>4.551000e+01</td>\n",
       "      <td>0.000000e+00</td>\n",
       "      <td>5.210000e+02</td>\n",
       "      <td>4.551000e+01</td>\n",
       "      <td>0.000000e+00</td>\n",
       "      <td>9.999600e+05</td>\n",
       "    </tr>\n",
       "  </tbody>\n",
       "</table>\n",
       "</div>"
      ],
      "text/plain": [
       "       duration_sec  start_station_id  start_station_latitude  \\\n",
       "count  2.752401e+06      2.190740e+06            2.752401e+06   \n",
       "mean   7.138244e+02      1.539936e+02            3.775783e+01   \n",
       "std    5.182559e+02      1.295616e+02            1.788484e-01   \n",
       "min    6.000000e+01      3.000000e+00            0.000000e+00   \n",
       "25%    3.670000e+02      5.000000e+01            3.776710e+01   \n",
       "50%    5.830000e+02      1.090000e+02            3.777874e+01   \n",
       "75%    9.010000e+02      2.460000e+02            3.779416e+01   \n",
       "max    4.060000e+03      5.210000e+02            4.551000e+01   \n",
       "\n",
       "       start_station_longitude  end_station_id  end_station_latitude  \\\n",
       "count             2.752401e+06    2.189616e+06          2.752401e+06   \n",
       "mean             -1.223507e+02    1.486301e+02          3.775768e+01   \n",
       "std               4.692365e-01    1.282719e+02          2.069899e-01   \n",
       "min              -1.225143e+02    3.000000e+00          0.000000e+00   \n",
       "25%              -1.224165e+02    4.300000e+01          3.776794e+01   \n",
       "50%              -1.223998e+02    1.040000e+02          3.777877e+01   \n",
       "75%              -1.223896e+02    2.430000e+02          3.779450e+01   \n",
       "max               0.000000e+00    5.210000e+02          4.551000e+01   \n",
       "\n",
       "       end_station_longitude       bike_id  \n",
       "count           2.752401e+06  2.752401e+06  \n",
       "mean           -1.223491e+02  1.367143e+05  \n",
       "std             5.781337e-01  2.513152e+05  \n",
       "min            -1.225143e+02  4.000000e+00  \n",
       "25%            -1.224139e+02  2.299000e+03  \n",
       "50%            -1.223991e+02  9.789000e+03  \n",
       "75%            -1.223896e+02  1.530070e+05  \n",
       "max             0.000000e+00  9.999600e+05  "
      ]
     },
     "execution_count": 9,
     "metadata": {},
     "output_type": "execute_result"
    }
   ],
   "source": [
    "df_clean=df_clean[df_clean['duration_sec']<=4060]\n",
    "df_clean.describe()"
   ]
  },
  {
   "cell_type": "code",
   "execution_count": 10,
   "metadata": {},
   "outputs": [
    {
     "name": "stdout",
     "output_type": "stream",
     "text": [
      "<class 'pandas.core.frame.DataFrame'>\n",
      "Int64Index: 2752401 entries, 4 to 176798\n",
      "Data columns (total 15 columns):\n",
      " #   Column                   Dtype         \n",
      "---  ------                   -----         \n",
      " 0   duration_sec             int64         \n",
      " 1   start_time               datetime64[ns]\n",
      " 2   end_time                 datetime64[ns]\n",
      " 3   start_station_id         float64       \n",
      " 4   start_station_name       object        \n",
      " 5   start_station_latitude   float64       \n",
      " 6   start_station_longitude  float64       \n",
      " 7   end_station_id           float64       \n",
      " 8   end_station_name         object        \n",
      " 9   end_station_latitude     float64       \n",
      " 10  end_station_longitude    float64       \n",
      " 11  bike_id                  int64         \n",
      " 12  user_type                object        \n",
      " 13  bike_share_for_all_trip  object        \n",
      " 14  rental_access_method     object        \n",
      "dtypes: datetime64[ns](2), float64(6), int64(2), object(5)\n",
      "memory usage: 336.0+ MB\n"
     ]
    }
   ],
   "source": [
    "df_clean.start_time=pd.to_datetime(df_clean.start_time)\n",
    "df_clean.end_time=pd.to_datetime(df_clean.end_time)\n",
    "df_clean.info()"
   ]
  },
  {
   "cell_type": "markdown",
   "metadata": {},
   "source": [
    "Adding a column with the month and year of the entry. That will be used to assess monthly trends"
   ]
  },
  {
   "cell_type": "code",
   "execution_count": 11,
   "metadata": {
    "scrolled": true
   },
   "outputs": [
    {
     "data": {
      "text/html": [
       "<div>\n",
       "<style scoped>\n",
       "    .dataframe tbody tr th:only-of-type {\n",
       "        vertical-align: middle;\n",
       "    }\n",
       "\n",
       "    .dataframe tbody tr th {\n",
       "        vertical-align: top;\n",
       "    }\n",
       "\n",
       "    .dataframe thead th {\n",
       "        text-align: right;\n",
       "    }\n",
       "</style>\n",
       "<table border=\"1\" class=\"dataframe\">\n",
       "  <thead>\n",
       "    <tr style=\"text-align: right;\">\n",
       "      <th></th>\n",
       "      <th>duration_sec</th>\n",
       "      <th>start_time</th>\n",
       "      <th>end_time</th>\n",
       "      <th>start_station_id</th>\n",
       "      <th>start_station_name</th>\n",
       "      <th>start_station_latitude</th>\n",
       "      <th>start_station_longitude</th>\n",
       "      <th>end_station_id</th>\n",
       "      <th>end_station_name</th>\n",
       "      <th>end_station_latitude</th>\n",
       "      <th>end_station_longitude</th>\n",
       "      <th>bike_id</th>\n",
       "      <th>user_type</th>\n",
       "      <th>bike_share_for_all_trip</th>\n",
       "      <th>rental_access_method</th>\n",
       "      <th>period</th>\n",
       "    </tr>\n",
       "  </thead>\n",
       "  <tbody>\n",
       "    <tr>\n",
       "      <th>4</th>\n",
       "      <td>1128</td>\n",
       "      <td>2019-04-30 23:59:04.739</td>\n",
       "      <td>2019-05-01 00:17:53.091</td>\n",
       "      <td>124.0</td>\n",
       "      <td>19th St at Florida St</td>\n",
       "      <td>37.760447</td>\n",
       "      <td>-122.410807</td>\n",
       "      <td>5.0</td>\n",
       "      <td>Powell St BART Station (Market St at 5th St)</td>\n",
       "      <td>37.783899</td>\n",
       "      <td>-122.408445</td>\n",
       "      <td>877</td>\n",
       "      <td>Subscriber</td>\n",
       "      <td>No</td>\n",
       "      <td>NaN</td>\n",
       "      <td>April-2019</td>\n",
       "    </tr>\n",
       "    <tr>\n",
       "      <th>5</th>\n",
       "      <td>1388</td>\n",
       "      <td>2019-04-30 23:53:05.982</td>\n",
       "      <td>2019-05-01 00:16:14.313</td>\n",
       "      <td>243.0</td>\n",
       "      <td>Bancroft Way at College Ave</td>\n",
       "      <td>37.869360</td>\n",
       "      <td>-122.254337</td>\n",
       "      <td>247.0</td>\n",
       "      <td>Fulton St at Bancroft Way</td>\n",
       "      <td>37.867789</td>\n",
       "      <td>-122.265896</td>\n",
       "      <td>3234</td>\n",
       "      <td>Customer</td>\n",
       "      <td>No</td>\n",
       "      <td>NaN</td>\n",
       "      <td>April-2019</td>\n",
       "    </tr>\n",
       "    <tr>\n",
       "      <th>6</th>\n",
       "      <td>920</td>\n",
       "      <td>2019-04-30 23:57:56.340</td>\n",
       "      <td>2019-05-01 00:13:16.454</td>\n",
       "      <td>202.0</td>\n",
       "      <td>Washington St at 8th St</td>\n",
       "      <td>37.800754</td>\n",
       "      <td>-122.274894</td>\n",
       "      <td>220.0</td>\n",
       "      <td>San Pablo Ave at MLK Jr Way</td>\n",
       "      <td>37.811351</td>\n",
       "      <td>-122.273422</td>\n",
       "      <td>3262</td>\n",
       "      <td>Subscriber</td>\n",
       "      <td>Yes</td>\n",
       "      <td>NaN</td>\n",
       "      <td>April-2019</td>\n",
       "    </tr>\n",
       "    <tr>\n",
       "      <th>7</th>\n",
       "      <td>725</td>\n",
       "      <td>2019-04-30 23:56:11.219</td>\n",
       "      <td>2019-05-01 00:08:16.915</td>\n",
       "      <td>44.0</td>\n",
       "      <td>Civic Center/UN Plaza BART Station (Market St ...</td>\n",
       "      <td>37.781074</td>\n",
       "      <td>-122.411738</td>\n",
       "      <td>121.0</td>\n",
       "      <td>Mission Playground</td>\n",
       "      <td>37.759210</td>\n",
       "      <td>-122.421339</td>\n",
       "      <td>2706</td>\n",
       "      <td>Customer</td>\n",
       "      <td>No</td>\n",
       "      <td>NaN</td>\n",
       "      <td>April-2019</td>\n",
       "    </tr>\n",
       "    <tr>\n",
       "      <th>8</th>\n",
       "      <td>488</td>\n",
       "      <td>2019-04-30 23:59:00.660</td>\n",
       "      <td>2019-05-01 00:07:08.975</td>\n",
       "      <td>21.0</td>\n",
       "      <td>Montgomery St BART Station (Market St at 2nd St)</td>\n",
       "      <td>37.789625</td>\n",
       "      <td>-122.400811</td>\n",
       "      <td>64.0</td>\n",
       "      <td>5th St at Brannan St</td>\n",
       "      <td>37.776754</td>\n",
       "      <td>-122.399018</td>\n",
       "      <td>860</td>\n",
       "      <td>Subscriber</td>\n",
       "      <td>No</td>\n",
       "      <td>NaN</td>\n",
       "      <td>April-2019</td>\n",
       "    </tr>\n",
       "  </tbody>\n",
       "</table>\n",
       "</div>"
      ],
      "text/plain": [
       "   duration_sec              start_time                end_time  \\\n",
       "4          1128 2019-04-30 23:59:04.739 2019-05-01 00:17:53.091   \n",
       "5          1388 2019-04-30 23:53:05.982 2019-05-01 00:16:14.313   \n",
       "6           920 2019-04-30 23:57:56.340 2019-05-01 00:13:16.454   \n",
       "7           725 2019-04-30 23:56:11.219 2019-05-01 00:08:16.915   \n",
       "8           488 2019-04-30 23:59:00.660 2019-05-01 00:07:08.975   \n",
       "\n",
       "   start_station_id                                 start_station_name  \\\n",
       "4             124.0                              19th St at Florida St   \n",
       "5             243.0                        Bancroft Way at College Ave   \n",
       "6             202.0                            Washington St at 8th St   \n",
       "7              44.0  Civic Center/UN Plaza BART Station (Market St ...   \n",
       "8              21.0   Montgomery St BART Station (Market St at 2nd St)   \n",
       "\n",
       "   start_station_latitude  start_station_longitude  end_station_id  \\\n",
       "4               37.760447              -122.410807             5.0   \n",
       "5               37.869360              -122.254337           247.0   \n",
       "6               37.800754              -122.274894           220.0   \n",
       "7               37.781074              -122.411738           121.0   \n",
       "8               37.789625              -122.400811            64.0   \n",
       "\n",
       "                               end_station_name  end_station_latitude  \\\n",
       "4  Powell St BART Station (Market St at 5th St)             37.783899   \n",
       "5                     Fulton St at Bancroft Way             37.867789   \n",
       "6                   San Pablo Ave at MLK Jr Way             37.811351   \n",
       "7                            Mission Playground             37.759210   \n",
       "8                          5th St at Brannan St             37.776754   \n",
       "\n",
       "   end_station_longitude  bike_id   user_type bike_share_for_all_trip  \\\n",
       "4            -122.408445      877  Subscriber                      No   \n",
       "5            -122.265896     3234    Customer                      No   \n",
       "6            -122.273422     3262  Subscriber                     Yes   \n",
       "7            -122.421339     2706    Customer                      No   \n",
       "8            -122.399018      860  Subscriber                      No   \n",
       "\n",
       "  rental_access_method      period  \n",
       "4                  NaN  April-2019  \n",
       "5                  NaN  April-2019  \n",
       "6                  NaN  April-2019  \n",
       "7                  NaN  April-2019  \n",
       "8                  NaN  April-2019  "
      ]
     },
     "execution_count": 11,
     "metadata": {},
     "output_type": "execute_result"
    }
   ],
   "source": [
    "df_clean['period']=df_clean['start_time'].dt.month_name()+'-'+(pd.DatetimeIndex(df_clean['start_time']).year).astype(str)\n",
    "df_clean.head()"
   ]
  },
  {
   "cell_type": "markdown",
   "metadata": {},
   "source": [
    "## Univariate Exploration\n",
    "\n",
    "> In this section, investigate distributions of individual variables. If\n",
    "you see unusual points or outliers, take a deeper look to clean things up\n",
    "and prepare yourself to look at relationships between variables."
   ]
  },
  {
   "cell_type": "code",
   "execution_count": null,
   "metadata": {},
   "outputs": [],
   "source": []
  },
  {
   "cell_type": "markdown",
   "metadata": {},
   "source": [
    "> Make sure that, after every plot or related series of plots, that you\n",
    "include a Markdown cell with comments about what you observed, and what\n",
    "you plan on investigating next."
   ]
  },
  {
   "cell_type": "code",
   "execution_count": null,
   "metadata": {},
   "outputs": [],
   "source": []
  },
  {
   "cell_type": "code",
   "execution_count": 344,
   "metadata": {
    "scrolled": true
   },
   "outputs": [
    {
     "data": {
      "image/png": "[encoded data removed]",
      "text/plain": [
       "<Figure size 432x288 with 1 Axes>"
      ]
     },
     "metadata": {
      "needs_background": "light"
     },
     "output_type": "display_data"
    }
   ],
   "source": [
    "bin_edges = np.arange(0, df_clean['duration_sec'].max()+100, 100)\n",
    "plt.hist(df_clean['duration_sec'], bins = bin_edges);\n",
    "#plt.xlim(0,2000) #Adjusting the bins to 6000 sec (100 min)"
   ]
  },
  {
   "cell_type": "code",
   "execution_count": 372,
   "metadata": {
    "scrolled": false
   },
   "outputs": [
    {
     "data": {
      "text/plain": [
       "<matplotlib.axes._subplots.AxesSubplot at 0x7fa34a8af640>"
      ]
     },
     "execution_count": 372,
     "metadata": {},
     "output_type": "execute_result"
    },
    {
     "data": {
      "image/png": "[encoded data removed]",
      "text/plain": [
       "<Figure size 432x288 with 1 Axes>"
      ]
     },
     "metadata": {
      "needs_background": "light"
     },
     "output_type": "display_data"
    }
   ],
   "source": [
    "sns.countplot(data=df_clean,x='user_type')"
   ]
  },
  {
   "cell_type": "code",
   "execution_count": 128,
   "metadata": {
    "scrolled": false
   },
   "outputs": [
    {
     "data": {
      "text/plain": [
       "<matplotlib.axes._subplots.AxesSubplot at 0x7fa58e415190>"
      ]
     },
     "execution_count": 128,
     "metadata": {},
     "output_type": "execute_result"
    },
    {
     "data": {
      "image/png": "[encoded data removed]",
      "text/plain": [
       "<Figure size 432x288 with 1 Axes>"
      ]
     },
     "metadata": {
      "needs_background": "light"
     },
     "output_type": "display_data"
    }
   ],
   "source": [
    "sns.countplot(data=df_clean,x='bike_share_for_all_trip')"
   ]
  },
  {
   "cell_type": "code",
   "execution_count": 284,
   "metadata": {
    "scrolled": false
   },
   "outputs": [
    {
     "data": {
      "text/plain": [
       "<matplotlib.axes._subplots.AxesSubplot at 0x7fa4199c3a30>"
      ]
     },
     "execution_count": 284,
     "metadata": {},
     "output_type": "execute_result"
    },
    {
     "data": {
      "image/png": "[encoded data removed]",
      "text/plain": [
       "<Figure size 432x288 with 1 Axes>"
      ]
     },
     "metadata": {
      "needs_background": "light"
     },
     "output_type": "display_data"
    }
   ],
   "source": [
    "sns.countplot(data=df_clean,x='rental_access_method')"
   ]
  },
  {
   "cell_type": "markdown",
   "metadata": {},
   "source": [
    "## Bivariate Exploration\n",
    "\n",
    "> In this section, investigate relationships between pairs of variables in your\n",
    "data. Make sure the variables that you cover here have been introduced in some\n",
    "fashion in the previous section (univariate exploration)."
   ]
  },
  {
   "cell_type": "code",
   "execution_count": 14,
   "metadata": {
    "scrolled": true
   },
   "outputs": [
    {
     "data": {
      "text/plain": [
       "<matplotlib.axes._subplots.AxesSubplot at 0x7f92c2be22b0>"
      ]
     },
     "execution_count": 14,
     "metadata": {},
     "output_type": "execute_result"
    },
    {
     "data": {
      "image/png": "[encoded data removed]",
      "text/plain": [
       "<Figure size 432x288 with 1 Axes>"
      ]
     },
     "metadata": {
      "needs_background": "light"
     },
     "output_type": "display_data"
    }
   ],
   "source": [
    "base_color = sns.color_palette()[0]\n",
    "sns.boxplot(data = df_clean, x = 'user_type', y = 'duration_sec', color = base_color)\n"
   ]
  },
  {
   "cell_type": "code",
   "execution_count": 20,
   "metadata": {},
   "outputs": [
    {
     "data": {
      "text/plain": [
       "<matplotlib.axes._subplots.AxesSubplot at 0x7f928f8bd430>"
      ]
     },
     "execution_count": 20,
     "metadata": {},
     "output_type": "execute_result"
    },
    {
     "data": {
      "image/png": "[encoded data removed]",
      "text/plain": [
       "<Figure size 432x288 with 1 Axes>"
      ]
     },
     "metadata": {
      "needs_background": "light"
     },
     "output_type": "display_data"
    }
   ],
   "source": [
    "base_color = sns.color_palette()[0]\n",
    "sns.violinplot(data = df_clean, y = 'user_type', x = 'duration_sec', color = base_color)\n"
   ]
  },
  {
   "cell_type": "code",
   "execution_count": 17,
   "metadata": {
    "scrolled": true
   },
   "outputs": [
    {
     "data": {
      "text/plain": [
       "<matplotlib.axes._subplots.AxesSubplot at 0x7f9290b54a30>"
      ]
     },
     "execution_count": 17,
     "metadata": {},
     "output_type": "execute_result"
    },
    {
     "data": {
      "image/png": "[encoded data removed]",
      "text/plain": [
       "<Figure size 432x288 with 1 Axes>"
      ]
     },
     "metadata": {
      "needs_background": "light"
     },
     "output_type": "display_data"
    }
   ],
   "source": [
    "base_color = sns.color_palette()[0]\n",
    "sns.boxplot(data = df_clean, x = 'rental_access_method', y = 'duration_sec', color = base_color)\n"
   ]
  },
  {
   "cell_type": "code",
   "execution_count": 19,
   "metadata": {},
   "outputs": [
    {
     "data": {
      "text/plain": [
       "<matplotlib.axes._subplots.AxesSubplot at 0x7f928fc72a90>"
      ]
     },
     "execution_count": 19,
     "metadata": {},
     "output_type": "execute_result"
    },
    {
     "data": {
      "image/png": "[encoded data removed]",
      "text/plain": [
       "<Figure size 432x288 with 1 Axes>"
      ]
     },
     "metadata": {
      "needs_background": "light"
     },
     "output_type": "display_data"
    }
   ],
   "source": [
    "base_color = sns.color_palette()[0]\n",
    "sns.violinplot(data = df_clean, y = 'rental_access_method', x = 'duration_sec', color = base_color)\n"
   ]
  },
  {
   "cell_type": "markdown",
   "metadata": {},
   "source": [
    "### Talk about some of the relationships you observed in this part of the investigation. How did the feature(s) of interest vary with other features in the dataset?\n",
    "\n",
    "> Your answer here!\n",
    "\n",
    "### Did you observe any interesting relationships between the other features (not the main feature(s) of interest)?\n",
    "\n",
    "> Your answer here!"
   ]
  },
  {
   "cell_type": "code",
   "execution_count": 26,
   "metadata": {
    "scrolled": true
   },
   "outputs": [
    {
     "data": {
      "text/html": [
       "<div>\n",
       "<style scoped>\n",
       "    .dataframe tbody tr th:only-of-type {\n",
       "        vertical-align: middle;\n",
       "    }\n",
       "\n",
       "    .dataframe tbody tr th {\n",
       "        vertical-align: top;\n",
       "    }\n",
       "\n",
       "    .dataframe thead th {\n",
       "        text-align: right;\n",
       "    }\n",
       "</style>\n",
       "<table border=\"1\" class=\"dataframe\">\n",
       "  <thead>\n",
       "    <tr style=\"text-align: right;\">\n",
       "      <th></th>\n",
       "      <th>start_station_name</th>\n",
       "      <th>counts</th>\n",
       "    </tr>\n",
       "  </thead>\n",
       "  <tbody>\n",
       "    <tr>\n",
       "      <th>0</th>\n",
       "      <td>Market St at 10th St</td>\n",
       "      <td>39441</td>\n",
       "    </tr>\n",
       "    <tr>\n",
       "      <th>1</th>\n",
       "      <td>Berry St at 4th St</td>\n",
       "      <td>39293</td>\n",
       "    </tr>\n",
       "    <tr>\n",
       "      <th>2</th>\n",
       "      <td>San Francisco Caltrain (Townsend St at 4th St)</td>\n",
       "      <td>38540</td>\n",
       "    </tr>\n",
       "    <tr>\n",
       "      <th>3</th>\n",
       "      <td>San Francisco Ferry Building (Harry Bridges Pl...</td>\n",
       "      <td>32798</td>\n",
       "    </tr>\n",
       "    <tr>\n",
       "      <th>4</th>\n",
       "      <td>Montgomery St BART Station (Market St at 2nd St)</td>\n",
       "      <td>30365</td>\n",
       "    </tr>\n",
       "    <tr>\n",
       "      <th>5</th>\n",
       "      <td>Powell St BART Station (Market St at 4th St)</td>\n",
       "      <td>29037</td>\n",
       "    </tr>\n",
       "    <tr>\n",
       "      <th>6</th>\n",
       "      <td>Howard St at Beale St</td>\n",
       "      <td>28695</td>\n",
       "    </tr>\n",
       "    <tr>\n",
       "      <th>7</th>\n",
       "      <td>Powell St BART Station (Market St at 5th St)</td>\n",
       "      <td>26528</td>\n",
       "    </tr>\n",
       "    <tr>\n",
       "      <th>8</th>\n",
       "      <td>Steuart St at Market St</td>\n",
       "      <td>24694</td>\n",
       "    </tr>\n",
       "    <tr>\n",
       "      <th>9</th>\n",
       "      <td>San Francisco Caltrain Station 2  (Townsend St...</td>\n",
       "      <td>24392</td>\n",
       "    </tr>\n",
       "  </tbody>\n",
       "</table>\n",
       "</div>"
      ],
      "text/plain": [
       "                                  start_station_name  counts\n",
       "0                               Market St at 10th St   39441\n",
       "1                                 Berry St at 4th St   39293\n",
       "2     San Francisco Caltrain (Townsend St at 4th St)   38540\n",
       "3  San Francisco Ferry Building (Harry Bridges Pl...   32798\n",
       "4   Montgomery St BART Station (Market St at 2nd St)   30365\n",
       "5       Powell St BART Station (Market St at 4th St)   29037\n",
       "6                              Howard St at Beale St   28695\n",
       "7       Powell St BART Station (Market St at 5th St)   26528\n",
       "8                            Steuart St at Market St   24694\n",
       "9  San Francisco Caltrain Station 2  (Townsend St...   24392"
      ]
     },
     "execution_count": 26,
     "metadata": {},
     "output_type": "execute_result"
    }
   ],
   "source": [
    "stations=df_clean['start_station_name'].value_counts().rename_axis('start_station_name').reset_index(name='counts')\n",
    "station_10=stations.head(10)\n",
    "station_10"
   ]
  },
  {
   "cell_type": "code",
   "execution_count": 28,
   "metadata": {
    "scrolled": false
   },
   "outputs": [
    {
     "data": {
      "text/plain": [
       "<matplotlib.axes._subplots.AxesSubplot at 0x7f928a082c10>"
      ]
     },
     "execution_count": 28,
     "metadata": {},
     "output_type": "execute_result"
    },
    {
     "data": {
      "image/png": "[encoded data removed]",
      "text/plain": [
       "<Figure size 432x288 with 1 Axes>"
      ]
     },
     "metadata": {
      "needs_background": "light"
     },
     "output_type": "display_data"
    }
   ],
   "source": [
    "sns.barplot(data=station_10,y='start_station_name',x='counts', order=station_10.start_station_name)"
   ]
  },
  {
   "cell_type": "code",
   "execution_count": 29,
   "metadata": {
    "scrolled": true
   },
   "outputs": [
    {
     "data": {
      "text/html": [
       "<div>\n",
       "<style scoped>\n",
       "    .dataframe tbody tr th:only-of-type {\n",
       "        vertical-align: middle;\n",
       "    }\n",
       "\n",
       "    .dataframe tbody tr th {\n",
       "        vertical-align: top;\n",
       "    }\n",
       "\n",
       "    .dataframe thead th {\n",
       "        text-align: right;\n",
       "    }\n",
       "</style>\n",
       "<table border=\"1\" class=\"dataframe\">\n",
       "  <thead>\n",
       "    <tr style=\"text-align: right;\">\n",
       "      <th></th>\n",
       "      <th>end_station_name</th>\n",
       "      <th>counts</th>\n",
       "    </tr>\n",
       "  </thead>\n",
       "  <tbody>\n",
       "    <tr>\n",
       "      <th>0</th>\n",
       "      <td>San Francisco Caltrain (Townsend St at 4th St)</td>\n",
       "      <td>54855</td>\n",
       "    </tr>\n",
       "    <tr>\n",
       "      <th>1</th>\n",
       "      <td>Montgomery St BART Station (Market St at 2nd St)</td>\n",
       "      <td>43460</td>\n",
       "    </tr>\n",
       "    <tr>\n",
       "      <th>2</th>\n",
       "      <td>San Francisco Ferry Building (Harry Bridges Pl...</td>\n",
       "      <td>42311</td>\n",
       "    </tr>\n",
       "    <tr>\n",
       "      <th>3</th>\n",
       "      <td>Berry St at 4th St</td>\n",
       "      <td>39680</td>\n",
       "    </tr>\n",
       "    <tr>\n",
       "      <th>4</th>\n",
       "      <td>Market St at 10th St</td>\n",
       "      <td>38672</td>\n",
       "    </tr>\n",
       "    <tr>\n",
       "      <th>5</th>\n",
       "      <td>San Francisco Caltrain Station 2  (Townsend St...</td>\n",
       "      <td>34840</td>\n",
       "    </tr>\n",
       "    <tr>\n",
       "      <th>6</th>\n",
       "      <td>Powell St BART Station (Market St at 4th St)</td>\n",
       "      <td>32871</td>\n",
       "    </tr>\n",
       "    <tr>\n",
       "      <th>7</th>\n",
       "      <td>Powell St BART Station (Market St at 5th St)</td>\n",
       "      <td>27664</td>\n",
       "    </tr>\n",
       "    <tr>\n",
       "      <th>8</th>\n",
       "      <td>Howard St at Beale St</td>\n",
       "      <td>27458</td>\n",
       "    </tr>\n",
       "    <tr>\n",
       "      <th>9</th>\n",
       "      <td>The Embarcadero at Sansome St</td>\n",
       "      <td>26521</td>\n",
       "    </tr>\n",
       "  </tbody>\n",
       "</table>\n",
       "</div>"
      ],
      "text/plain": [
       "                                    end_station_name  counts\n",
       "0     San Francisco Caltrain (Townsend St at 4th St)   54855\n",
       "1   Montgomery St BART Station (Market St at 2nd St)   43460\n",
       "2  San Francisco Ferry Building (Harry Bridges Pl...   42311\n",
       "3                                 Berry St at 4th St   39680\n",
       "4                               Market St at 10th St   38672\n",
       "5  San Francisco Caltrain Station 2  (Townsend St...   34840\n",
       "6       Powell St BART Station (Market St at 4th St)   32871\n",
       "7       Powell St BART Station (Market St at 5th St)   27664\n",
       "8                              Howard St at Beale St   27458\n",
       "9                      The Embarcadero at Sansome St   26521"
      ]
     },
     "execution_count": 29,
     "metadata": {},
     "output_type": "execute_result"
    }
   ],
   "source": [
    "stations_end=df_clean['end_station_name'].value_counts().rename_axis('end_station_name').reset_index(name='counts')\n",
    "station_10_end=stations_end.head(10)\n",
    "station_10_end"
   ]
  },
  {
   "cell_type": "code",
   "execution_count": 30,
   "metadata": {
    "scrolled": false
   },
   "outputs": [
    {
     "data": {
      "text/plain": [
       "<matplotlib.axes._subplots.AxesSubplot at 0x7f928f927ca0>"
      ]
     },
     "execution_count": 30,
     "metadata": {},
     "output_type": "execute_result"
    },
    {
     "data": {
      "image/png": "[encoded data removed]",
      "text/plain": [
       "<Figure size 432x288 with 1 Axes>"
      ]
     },
     "metadata": {
      "needs_background": "light"
     },
     "output_type": "display_data"
    }
   ],
   "source": [
    "sns.barplot(data=station_10_end,y='end_station_name',x='counts', order=station_10_end.end_station_name)"
   ]
  },
  {
   "cell_type": "code",
   "execution_count": 31,
   "metadata": {
    "scrolled": true
   },
   "outputs": [
    {
     "data": {
      "text/plain": [
       "<seaborn.axisgrid.FacetGrid at 0x7f928f9c0a60>"
      ]
     },
     "execution_count": 31,
     "metadata": {},
     "output_type": "execute_result"
    },
    {
     "data": {
      "image/png": "[encoded data removed]",
      "text/plain": [
       "<Figure size 2808x216 with 13 Axes>"
      ]
     },
     "metadata": {
      "needs_background": "light"
     },
     "output_type": "display_data"
    }
   ],
   "source": [
    "g = sns.FacetGrid(data = df_clean, col = 'period', )\n",
    "g.map(sns.countplot,'user_type', order=['Subscriber','Customer'])"
   ]
  },
  {
   "cell_type": "code",
   "execution_count": 375,
   "metadata": {
    "scrolled": false
   },
   "outputs": [
    {
     "data": {
      "text/plain": [
       "<matplotlib.axes._subplots.AxesSubplot at 0x7fa30d72cfd0>"
      ]
     },
     "execution_count": 375,
     "metadata": {},
     "output_type": "execute_result"
    },
    {
     "data": {
      "image/png": "[encoded data removed]",
      "text/plain": [
       "<Figure size 432x288 with 1 Axes>"
      ]
     },
     "metadata": {
      "needs_background": "light"
     },
     "output_type": "display_data"
    }
   ],
   "source": [
    "sns.countplot(x=df_clean[df_clean['period']=='April-2020'].user_type, order=['Subscriber','Customer'])"
   ]
  },
  {
   "cell_type": "code",
   "execution_count": 374,
   "metadata": {
    "scrolled": false
   },
   "outputs": [
    {
     "data": {
      "text/plain": [
       "<matplotlib.axes._subplots.AxesSubplot at 0x7fa381d01e50>"
      ]
     },
     "execution_count": 374,
     "metadata": {},
     "output_type": "execute_result"
    },
    {
     "data": {
      "image/png": "[encoded data removed]",
      "text/plain": [
       "<Figure size 432x288 with 1 Axes>"
      ]
     },
     "metadata": {
      "needs_background": "light"
     },
     "output_type": "display_data"
    }
   ],
   "source": [
    "sns.countplot(x=df_clean[df_clean['period']=='February-2020'].user_type, order=['Subscriber','Customer'])"
   ]
  },
  {
   "cell_type": "code",
   "execution_count": 360,
   "metadata": {
    "scrolled": true
   },
   "outputs": [
    {
     "data": {
      "text/plain": [
       "<seaborn.axisgrid.FacetGrid at 0x7fa3897a5250>"
      ]
     },
     "execution_count": 360,
     "metadata": {},
     "output_type": "execute_result"
    },
    {
     "data": {
      "image/png": "[encoded data removed]",
      "text/plain": [
       "<Figure size 432x216 with 2 Axes>"
      ]
     },
     "metadata": {
      "needs_background": "light"
     },
     "output_type": "display_data"
    }
   ],
   "source": [
    "subset = df_clean[(df_clean['period']=='March-2020') | (df_clean['period']=='April-2020')].copy()\n",
    "g = sns.FacetGrid(data = subset, col = 'period' )\n",
    "g.map(sns.countplot,'user_type', order=['Subscriber','Customer'])"
   ]
  },
  {
   "cell_type": "code",
   "execution_count": 353,
   "metadata": {
    "scrolled": true
   },
   "outputs": [
    {
     "data": {
      "text/plain": [
       "<seaborn.axisgrid.FacetGrid at 0x7fa6207274f0>"
      ]
     },
     "execution_count": 353,
     "metadata": {},
     "output_type": "execute_result"
    },
    {
     "data": {
      "image/png": "[encoded data removed]",
      "text/plain": [
       "<Figure size 2808x216 with 13 Axes>"
      ]
     },
     "metadata": {
      "needs_background": "light"
     },
     "output_type": "display_data"
    }
   ],
   "source": [
    "g = sns.FacetGrid(data = df_clean, col = 'period' )\n",
    "g.map(sns.countplot,'user_type', order=['Subscriber','Customer'])"
   ]
  },
  {
   "cell_type": "code",
   "execution_count": 371,
   "metadata": {
    "scrolled": true
   },
   "outputs": [
    {
     "data": {
      "text/plain": [
       "<seaborn.axisgrid.FacetGrid at 0x7fa337464730>"
      ]
     },
     "execution_count": 371,
     "metadata": {},
     "output_type": "execute_result"
    },
    {
     "data": {
      "image/png": "[encoded data removed]",
      "text/plain": [
       "<Figure size 216x216 with 1 Axes>"
      ]
     },
     "metadata": {
      "needs_background": "light"
     },
     "output_type": "display_data"
    }
   ],
   "source": [
    "g = sns.FacetGrid(data = df_clean, hue = 'period', )\n",
    "g.map(sns.countplot,'user_type',alpha=0.7,order=['Subscriber','Customer'])\n",
    "#plt.legend()"
   ]
  },
  {
   "cell_type": "code",
   "execution_count": 251,
   "metadata": {
    "scrolled": true
   },
   "outputs": [
    {
     "data": {
      "text/plain": [
       "<seaborn.axisgrid.FacetGrid at 0x7fa4e6e45d60>"
      ]
     },
     "execution_count": 251,
     "metadata": {},
     "output_type": "execute_result"
    },
    {
     "data": {
      "image/png": "[encoded data removed]",
      "text/plain": [
       "<Figure size 2808x216 with 13 Axes>"
      ]
     },
     "metadata": {
      "needs_background": "light"
     },
     "output_type": "display_data"
    }
   ],
   "source": [
    "bin_edges = np.arange(0, 2000+100, 100)\n",
    "\n",
    "g = sns.FacetGrid(data = df_clean, col = 'period', )\n",
    "g.map(plt.hist,'duration_sec',bins=bin_edges)\n",
    "#plt.xlim(0,5000)"
   ]
  },
  {
   "cell_type": "code",
   "execution_count": 367,
   "metadata": {
    "scrolled": true
   },
   "outputs": [
    {
     "data": {
      "text/plain": [
       "<matplotlib.legend.Legend at 0x7fa30db90520>"
      ]
     },
     "execution_count": 367,
     "metadata": {},
     "output_type": "execute_result"
    },
    {
     "data": {
      "image/png": "[encoded data removed]",
      "text/plain": [
       "<Figure size 216x216 with 1 Axes>"
      ]
     },
     "metadata": {
      "needs_background": "light"
     },
     "output_type": "display_data"
    }
   ],
   "source": [
    "bin_edges = np.arange(0, 4000+100, 100)\n",
    "\n",
    "g = sns.FacetGrid(data = df_clean, hue = 'period')\n",
    "g.map(plt.hist,'duration_sec',alpha=0.7,bins=bin_edges)\n",
    "#plt.xlim(0,5000)\n",
    "plt.legend()"
   ]
  },
  {
   "cell_type": "code",
   "execution_count": null,
   "metadata": {},
   "outputs": [],
   "source": [
    "bin_edges = np.arange(0, 2000+100, 100)\n",
    "plt.hist(df_clean['duration_sec'], bins = bin_edges, );"
   ]
  },
  {
   "cell_type": "code",
   "execution_count": 262,
   "metadata": {},
   "outputs": [
    {
     "data": {
      "text/html": [
       "<div>\n",
       "<style scoped>\n",
       "    .dataframe tbody tr th:only-of-type {\n",
       "        vertical-align: middle;\n",
       "    }\n",
       "\n",
       "    .dataframe tbody tr th {\n",
       "        vertical-align: top;\n",
       "    }\n",
       "\n",
       "    .dataframe thead th {\n",
       "        text-align: right;\n",
       "    }\n",
       "</style>\n",
       "<table border=\"1\" class=\"dataframe\">\n",
       "  <thead>\n",
       "    <tr style=\"text-align: right;\">\n",
       "      <th></th>\n",
       "      <th>duration_sec</th>\n",
       "      <th>start_station_id</th>\n",
       "      <th>start_station_latitude</th>\n",
       "      <th>start_station_longitude</th>\n",
       "      <th>end_station_id</th>\n",
       "      <th>end_station_latitude</th>\n",
       "      <th>end_station_longitude</th>\n",
       "      <th>bike_id</th>\n",
       "      <th>month_start</th>\n",
       "      <th>year</th>\n",
       "    </tr>\n",
       "  </thead>\n",
       "  <tbody>\n",
       "    <tr>\n",
       "      <th>count</th>\n",
       "      <td>1732.000000</td>\n",
       "      <td>721.000000</td>\n",
       "      <td>1732.000000</td>\n",
       "      <td>1732.000000</td>\n",
       "      <td>718.000000</td>\n",
       "      <td>1732.000000</td>\n",
       "      <td>1732.000000</td>\n",
       "      <td>1732.000000</td>\n",
       "      <td>1732.0</td>\n",
       "      <td>1732.0</td>\n",
       "    </tr>\n",
       "    <tr>\n",
       "      <th>mean</th>\n",
       "      <td>1020.051963</td>\n",
       "      <td>216.957004</td>\n",
       "      <td>37.666939</td>\n",
       "      <td>-122.288747</td>\n",
       "      <td>206.339833</td>\n",
       "      <td>37.666825</td>\n",
       "      <td>-122.288962</td>\n",
       "      <td>543143.975751</td>\n",
       "      <td>4.0</td>\n",
       "      <td>2020.0</td>\n",
       "    </tr>\n",
       "    <tr>\n",
       "      <th>std</th>\n",
       "      <td>1264.145745</td>\n",
       "      <td>176.928084</td>\n",
       "      <td>0.190531</td>\n",
       "      <td>0.229796</td>\n",
       "      <td>175.181671</td>\n",
       "      <td>0.190726</td>\n",
       "      <td>0.230015</td>\n",
       "      <td>244338.757526</td>\n",
       "      <td>0.0</td>\n",
       "      <td>0.0</td>\n",
       "    </tr>\n",
       "    <tr>\n",
       "      <th>min</th>\n",
       "      <td>60.000000</td>\n",
       "      <td>3.000000</td>\n",
       "      <td>37.277431</td>\n",
       "      <td>-122.512242</td>\n",
       "      <td>3.000000</td>\n",
       "      <td>37.277689</td>\n",
       "      <td>-122.511730</td>\n",
       "      <td>100731.000000</td>\n",
       "      <td>4.0</td>\n",
       "      <td>2020.0</td>\n",
       "    </tr>\n",
       "    <tr>\n",
       "      <th>25%</th>\n",
       "      <td>368.000000</td>\n",
       "      <td>61.000000</td>\n",
       "      <td>37.720679</td>\n",
       "      <td>-122.424428</td>\n",
       "      <td>58.000000</td>\n",
       "      <td>37.719873</td>\n",
       "      <td>-122.424346</td>\n",
       "      <td>353720.250000</td>\n",
       "      <td>4.0</td>\n",
       "      <td>2020.0</td>\n",
       "    </tr>\n",
       "    <tr>\n",
       "      <th>50%</th>\n",
       "      <td>650.500000</td>\n",
       "      <td>126.000000</td>\n",
       "      <td>37.769757</td>\n",
       "      <td>-122.408902</td>\n",
       "      <td>120.000000</td>\n",
       "      <td>37.769757</td>\n",
       "      <td>-122.409335</td>\n",
       "      <td>529670.000000</td>\n",
       "      <td>4.0</td>\n",
       "      <td>2020.0</td>\n",
       "    </tr>\n",
       "    <tr>\n",
       "      <th>75%</th>\n",
       "      <td>1156.250000</td>\n",
       "      <td>387.000000</td>\n",
       "      <td>37.783157</td>\n",
       "      <td>-122.384997</td>\n",
       "      <td>380.750000</td>\n",
       "      <td>37.782611</td>\n",
       "      <td>-122.380961</td>\n",
       "      <td>737125.000000</td>\n",
       "      <td>4.0</td>\n",
       "      <td>2020.0</td>\n",
       "    </tr>\n",
       "    <tr>\n",
       "      <th>max</th>\n",
       "      <td>21372.000000</td>\n",
       "      <td>521.000000</td>\n",
       "      <td>37.848530</td>\n",
       "      <td>-121.811569</td>\n",
       "      <td>521.000000</td>\n",
       "      <td>37.848602</td>\n",
       "      <td>-121.799675</td>\n",
       "      <td>999960.000000</td>\n",
       "      <td>4.0</td>\n",
       "      <td>2020.0</td>\n",
       "    </tr>\n",
       "  </tbody>\n",
       "</table>\n",
       "</div>"
      ],
      "text/plain": [
       "       duration_sec  start_station_id  start_station_latitude  \\\n",
       "count   1732.000000        721.000000             1732.000000   \n",
       "mean    1020.051963        216.957004               37.666939   \n",
       "std     1264.145745        176.928084                0.190531   \n",
       "min       60.000000          3.000000               37.277431   \n",
       "25%      368.000000         61.000000               37.720679   \n",
       "50%      650.500000        126.000000               37.769757   \n",
       "75%     1156.250000        387.000000               37.783157   \n",
       "max    21372.000000        521.000000               37.848530   \n",
       "\n",
       "       start_station_longitude  end_station_id  end_station_latitude  \\\n",
       "count              1732.000000      718.000000           1732.000000   \n",
       "mean               -122.288747      206.339833             37.666825   \n",
       "std                   0.229796      175.181671              0.190726   \n",
       "min                -122.512242        3.000000             37.277689   \n",
       "25%                -122.424428       58.000000             37.719873   \n",
       "50%                -122.408902      120.000000             37.769757   \n",
       "75%                -122.384997      380.750000             37.782611   \n",
       "max                -121.811569      521.000000             37.848602   \n",
       "\n",
       "       end_station_longitude        bike_id  month_start    year  \n",
       "count            1732.000000    1732.000000       1732.0  1732.0  \n",
       "mean             -122.288962  543143.975751          4.0  2020.0  \n",
       "std                 0.230015  244338.757526          0.0     0.0  \n",
       "min              -122.511730  100731.000000          4.0  2020.0  \n",
       "25%              -122.424346  353720.250000          4.0  2020.0  \n",
       "50%              -122.409335  529670.000000          4.0  2020.0  \n",
       "75%              -122.380961  737125.000000          4.0  2020.0  \n",
       "max              -121.799675  999960.000000          4.0  2020.0  "
      ]
     },
     "execution_count": 262,
     "metadata": {},
     "output_type": "execute_result"
    }
   ],
   "source": [
    "df_clean[df_clean.period=='April-2020'].describe()"
   ]
  },
  {
   "cell_type": "code",
   "execution_count": 257,
   "metadata": {},
   "outputs": [
    {
     "data": {
      "text/plain": [
       "<matplotlib.axes._subplots.AxesSubplot at 0x7fa488dde790>"
      ]
     },
     "execution_count": 257,
     "metadata": {},
     "output_type": "execute_result"
    },
    {
     "data": {
      "image/png": "[encoded data removed]",
      "text/plain": [
       "<Figure size 432x288 with 1 Axes>"
      ]
     },
     "metadata": {
      "needs_background": "light"
     },
     "output_type": "display_data"
    }
   ],
   "source": [
    "sns.countplot(x=df_clean[df_clean.period=='April-2020'].user_type)"
   ]
  },
  {
   "cell_type": "code",
   "execution_count": 258,
   "metadata": {},
   "outputs": [
    {
     "data": {
      "text/plain": [
       "<matplotlib.axes._subplots.AxesSubplot at 0x7fa48953fb20>"
      ]
     },
     "execution_count": 258,
     "metadata": {},
     "output_type": "execute_result"
    },
    {
     "data": {
      "image/png": "[encoded data removed]",
      "text/plain": [
       "<Figure size 432x288 with 1 Axes>"
      ]
     },
     "metadata": {
      "needs_background": "light"
     },
     "output_type": "display_data"
    }
   ],
   "source": [
    "sns.countplot(x=df_clean[df_clean.period=='March-2020'].user_type)"
   ]
  },
  {
   "cell_type": "code",
   "execution_count": 137,
   "metadata": {
    "scrolled": true
   },
   "outputs": [
    {
     "data": {
      "text/html": [
       "<div>\n",
       "<style scoped>\n",
       "    .dataframe tbody tr th:only-of-type {\n",
       "        vertical-align: middle;\n",
       "    }\n",
       "\n",
       "    .dataframe tbody tr th {\n",
       "        vertical-align: top;\n",
       "    }\n",
       "\n",
       "    .dataframe thead th {\n",
       "        text-align: right;\n",
       "    }\n",
       "</style>\n",
       "<table border=\"1\" class=\"dataframe\">\n",
       "  <thead>\n",
       "    <tr style=\"text-align: right;\">\n",
       "      <th></th>\n",
       "      <th>duration_sec</th>\n",
       "      <th>start_station_id</th>\n",
       "      <th>start_station_latitude</th>\n",
       "      <th>start_station_longitude</th>\n",
       "      <th>end_station_id</th>\n",
       "      <th>end_station_latitude</th>\n",
       "      <th>end_station_longitude</th>\n",
       "      <th>bike_id</th>\n",
       "      <th>month_start</th>\n",
       "    </tr>\n",
       "  </thead>\n",
       "  <tbody>\n",
       "    <tr>\n",
       "      <th>count</th>\n",
       "      <td>2.780197e+06</td>\n",
       "      <td>2.213827e+06</td>\n",
       "      <td>2.780197e+06</td>\n",
       "      <td>2.780197e+06</td>\n",
       "      <td>2.212179e+06</td>\n",
       "      <td>2.780197e+06</td>\n",
       "      <td>2.780197e+06</td>\n",
       "      <td>2.780197e+06</td>\n",
       "      <td>2.780197e+06</td>\n",
       "    </tr>\n",
       "    <tr>\n",
       "      <th>mean</th>\n",
       "      <td>8.166443e+02</td>\n",
       "      <td>1.544218e+02</td>\n",
       "      <td>3.775789e+01</td>\n",
       "      <td>-1.223509e+02</td>\n",
       "      <td>1.494351e+02</td>\n",
       "      <td>3.775695e+01</td>\n",
       "      <td>-1.223467e+02</td>\n",
       "      <td>1.365178e+05</td>\n",
       "      <td>5.903132e+00</td>\n",
       "    </tr>\n",
       "    <tr>\n",
       "      <th>std</th>\n",
       "      <td>1.899538e+03</td>\n",
       "      <td>1.300140e+02</td>\n",
       "      <td>1.783507e-01</td>\n",
       "      <td>4.679862e-01</td>\n",
       "      <td>1.289548e+02</td>\n",
       "      <td>2.707893e-01</td>\n",
       "      <td>8.093102e-01</td>\n",
       "      <td>2.511721e+05</td>\n",
       "      <td>3.491786e+00</td>\n",
       "    </tr>\n",
       "    <tr>\n",
       "      <th>min</th>\n",
       "      <td>6.000000e+01</td>\n",
       "      <td>3.000000e+00</td>\n",
       "      <td>0.000000e+00</td>\n",
       "      <td>-1.225143e+02</td>\n",
       "      <td>3.000000e+00</td>\n",
       "      <td>0.000000e+00</td>\n",
       "      <td>-1.225758e+02</td>\n",
       "      <td>4.000000e+00</td>\n",
       "      <td>1.000000e+00</td>\n",
       "    </tr>\n",
       "    <tr>\n",
       "      <th>25%</th>\n",
       "      <td>3.690000e+02</td>\n",
       "      <td>5.000000e+01</td>\n",
       "      <td>3.776710e+01</td>\n",
       "      <td>-1.224167e+02</td>\n",
       "      <td>4.300000e+01</td>\n",
       "      <td>3.776811e+01</td>\n",
       "      <td>-1.224147e+02</td>\n",
       "      <td>2.299000e+03</td>\n",
       "      <td>2.000000e+00</td>\n",
       "    </tr>\n",
       "    <tr>\n",
       "      <th>50%</th>\n",
       "      <td>5.880000e+02</td>\n",
       "      <td>1.090000e+02</td>\n",
       "      <td>3.777874e+01</td>\n",
       "      <td>-1.224000e+02</td>\n",
       "      <td>1.040000e+02</td>\n",
       "      <td>3.777877e+01</td>\n",
       "      <td>-1.223991e+02</td>\n",
       "      <td>9.787000e+03</td>\n",
       "      <td>6.000000e+00</td>\n",
       "    </tr>\n",
       "    <tr>\n",
       "      <th>75%</th>\n",
       "      <td>9.150000e+02</td>\n",
       "      <td>2.470000e+02</td>\n",
       "      <td>3.779423e+01</td>\n",
       "      <td>-1.223898e+02</td>\n",
       "      <td>2.440000e+02</td>\n",
       "      <td>3.779455e+01</td>\n",
       "      <td>-1.223898e+02</td>\n",
       "      <td>1.514520e+05</td>\n",
       "      <td>9.000000e+00</td>\n",
       "    </tr>\n",
       "    <tr>\n",
       "      <th>max</th>\n",
       "      <td>9.121100e+05</td>\n",
       "      <td>5.210000e+02</td>\n",
       "      <td>4.551000e+01</td>\n",
       "      <td>0.000000e+00</td>\n",
       "      <td>5.210000e+02</td>\n",
       "      <td>4.551000e+01</td>\n",
       "      <td>0.000000e+00</td>\n",
       "      <td>9.999600e+05</td>\n",
       "      <td>1.200000e+01</td>\n",
       "    </tr>\n",
       "  </tbody>\n",
       "</table>\n",
       "</div>"
      ],
      "text/plain": [
       "       duration_sec  start_station_id  start_station_latitude  \\\n",
       "count  2.780197e+06      2.213827e+06            2.780197e+06   \n",
       "mean   8.166443e+02      1.544218e+02            3.775789e+01   \n",
       "std    1.899538e+03      1.300140e+02            1.783507e-01   \n",
       "min    6.000000e+01      3.000000e+00            0.000000e+00   \n",
       "25%    3.690000e+02      5.000000e+01            3.776710e+01   \n",
       "50%    5.880000e+02      1.090000e+02            3.777874e+01   \n",
       "75%    9.150000e+02      2.470000e+02            3.779423e+01   \n",
       "max    9.121100e+05      5.210000e+02            4.551000e+01   \n",
       "\n",
       "       start_station_longitude  end_station_id  end_station_latitude  \\\n",
       "count             2.780197e+06    2.212179e+06          2.780197e+06   \n",
       "mean             -1.223509e+02    1.494351e+02          3.775695e+01   \n",
       "std               4.679862e-01    1.289548e+02          2.707893e-01   \n",
       "min              -1.225143e+02    3.000000e+00          0.000000e+00   \n",
       "25%              -1.224167e+02    4.300000e+01          3.776811e+01   \n",
       "50%              -1.224000e+02    1.040000e+02          3.777877e+01   \n",
       "75%              -1.223898e+02    2.440000e+02          3.779455e+01   \n",
       "max               0.000000e+00    5.210000e+02          4.551000e+01   \n",
       "\n",
       "       end_station_longitude       bike_id   month_start  \n",
       "count           2.780197e+06  2.780197e+06  2.780197e+06  \n",
       "mean           -1.223467e+02  1.365178e+05  5.903132e+00  \n",
       "std             8.093102e-01  2.511721e+05  3.491786e+00  \n",
       "min            -1.225758e+02  4.000000e+00  1.000000e+00  \n",
       "25%            -1.224147e+02  2.299000e+03  2.000000e+00  \n",
       "50%            -1.223991e+02  9.787000e+03  6.000000e+00  \n",
       "75%            -1.223898e+02  1.514520e+05  9.000000e+00  \n",
       "max             0.000000e+00  9.999600e+05  1.200000e+01  "
      ]
     },
     "execution_count": 137,
     "metadata": {},
     "output_type": "execute_result"
    }
   ],
   "source": [
    "df_clean.describe()"
   ]
  },
  {
   "cell_type": "code",
   "execution_count": null,
   "metadata": {},
   "outputs": [],
   "source": [
    "# adapted from https://stackoverflow.com/questions/19412462/getting-distance-between-two-points-based-on-latitude-longitude\n",
    "def distance_cal (start_latitude, start_longitude,end_latitude, end_longitude):\n",
    "    # approximate radius of earth in km\n",
    "    R = 6373.0\n",
    "\n",
    "    lat1 = radians(start_latitude)\n",
    "    lon1 = radians(start_longitude)\n",
    "    lat2 = radians(end_latitude)\n",
    "    lon2 = radians(end_longitude)\n",
    "\n",
    "    dlon = lon2 - lon1\n",
    "    dlat = lat2 - lat1\n",
    "\n",
    "    a = sin(dlat / 2)**2 + cos(lat1) * cos(lat2) * sin(dlon / 2)**2\n",
    "    c = 2 * atan2(sqrt(a), sqrt(1 - a))\n",
    "\n",
    "    distance = R * c\n",
    "    return distance*1000"
   ]
  },
  {
   "cell_type": "code",
   "execution_count": 55,
   "metadata": {},
   "outputs": [
    {
     "data": {
      "text/plain": [
       "1970.7943572878055"
      ]
     },
     "execution_count": 55,
     "metadata": {},
     "output_type": "execute_result"
    }
   ],
   "source": [
    "distance_cal(37.778768,-122.415929,37.796471,-122.416858)"
   ]
  },
  {
   "cell_type": "code",
   "execution_count": null,
   "metadata": {},
   "outputs": [],
   "source": [
    "lat1 = radians(52.2296756)\n",
    "lon1 = radians(21.0122287)\n",
    "lat2 = radians(52.406374)\n",
    "lon2 = radians(16.9251681)"
   ]
  },
  {
   "cell_type": "code",
   "execution_count": 42,
   "metadata": {
    "scrolled": true
   },
   "outputs": [
    {
     "name": "stdout",
     "output_type": "stream",
     "text": [
      "<class 'pandas.core.frame.DataFrame'>\n",
      "RangeIndex: 176799 entries, 0 to 176798\n",
      "Data columns (total 14 columns):\n",
      " #   Column                   Non-Null Count   Dtype  \n",
      "---  ------                   --------------   -----  \n",
      " 0   duration_sec             176799 non-null  int64  \n",
      " 1   start_time               176799 non-null  object \n",
      " 2   end_time                 176799 non-null  object \n",
      " 3   start_station_id         110696 non-null  float64\n",
      " 4   start_station_name       111349 non-null  object \n",
      " 5   start_station_latitude   176799 non-null  float64\n",
      " 6   start_station_longitude  176799 non-null  float64\n",
      " 7   end_station_id           111097 non-null  float64\n",
      " 8   end_station_name         111794 non-null  object \n",
      " 9   end_station_latitude     176799 non-null  float64\n",
      " 10  end_station_longitude    176799 non-null  float64\n",
      " 11  bike_id                  176799 non-null  int64  \n",
      " 12  user_type                176799 non-null  object \n",
      " 13  rental_access_method     114269 non-null  object \n",
      "dtypes: float64(6), int64(2), object(6)\n",
      "memory usage: 18.9+ MB\n"
     ]
    }
   ],
   "source": [
    "df2.info()"
   ]
  },
  {
   "cell_type": "markdown",
   "metadata": {},
   "source": [
    "> Load in your dataset and describe its properties through the questions below.\n",
    "Try and motivate your exploration goals through this section."
   ]
  },
  {
   "cell_type": "code",
   "execution_count": null,
   "metadata": {},
   "outputs": [],
   "source": []
  },
  {
   "cell_type": "markdown",
   "metadata": {},
   "source": [
    "### What is the structure of your dataset?\n",
    "\n",
    "> Your answer here!\n",
    "\n",
    "### What is/are the main feature(s) of interest in your dataset?\n",
    "\n",
    "> Your answer here!\n",
    "\n",
    "### What features in the dataset do you think will help support your investigation into your feature(s) of interest?\n",
    "\n",
    "> Your answer here!"
   ]
  },
  {
   "cell_type": "markdown",
   "metadata": {},
   "source": [
    "## Univariate Exploration\n",
    "\n",
    "> In this section, investigate distributions of individual variables. If\n",
    "you see unusual points or outliers, take a deeper look to clean things up\n",
    "and prepare yourself to look at relationships between variables."
   ]
  },
  {
   "cell_type": "code",
   "execution_count": null,
   "metadata": {},
   "outputs": [],
   "source": []
  },
  {
   "cell_type": "markdown",
   "metadata": {},
   "source": [
    "> Make sure that, after every plot or related series of plots, that you\n",
    "include a Markdown cell with comments about what you observed, and what\n",
    "you plan on investigating next."
   ]
  },
  {
   "cell_type": "code",
   "execution_count": null,
   "metadata": {},
   "outputs": [],
   "source": []
  },
  {
   "cell_type": "markdown",
   "metadata": {},
   "source": [
    "### Discuss the distribution(s) of your variable(s) of interest. Were there any unusual points? Did you need to perform any transformations?\n",
    "\n",
    "> Your answer here!\n",
    "\n",
    "### Of the features you investigated, were there any unusual distributions? Did you perform any operations on the data to tidy, adjust, or change the form of the data? If so, why did you do this?\n",
    "\n",
    "> Your answer here!"
   ]
  },
  {
   "cell_type": "markdown",
   "metadata": {},
   "source": [
    "## Bivariate Exploration\n",
    "\n",
    "> In this section, investigate relationships between pairs of variables in your\n",
    "data. Make sure the variables that you cover here have been introduced in some\n",
    "fashion in the previous section (univariate exploration)."
   ]
  },
  {
   "cell_type": "code",
   "execution_count": null,
   "metadata": {},
   "outputs": [],
   "source": []
  },
  {
   "cell_type": "markdown",
   "metadata": {},
   "source": [
    "### Talk about some of the relationships you observed in this part of the investigation. How did the feature(s) of interest vary with other features in the dataset?\n",
    "\n",
    "> Your answer here!\n",
    "\n",
    "### Did you observe any interesting relationships between the other features (not the main feature(s) of interest)?\n",
    "\n",
    "> Your answer here!"
   ]
  },
  {
   "cell_type": "markdown",
   "metadata": {},
   "source": [
    "## Multivariate Exploration\n",
    "\n",
    "> Create plots of three or more variables to investigate your data even\n",
    "further. Make sure that your investigations are justified, and follow from\n",
    "your work in the previous sections."
   ]
  },
  {
   "cell_type": "code",
   "execution_count": null,
   "metadata": {},
   "outputs": [],
   "source": []
  },
  {
   "cell_type": "markdown",
   "metadata": {},
   "source": [
    "### Talk about some of the relationships you observed in this part of the investigation. Were there features that strengthened each other in terms of looking at your feature(s) of interest?\n",
    "\n",
    "> Your answer here!\n",
    "\n",
    "### Were there any interesting or surprising interactions between features?\n",
    "\n",
    "> Your answer here!"
   ]
  },
  {
   "cell_type": "markdown",
   "metadata": {},
   "source": [
    "> At the end of your report, make sure that you export the notebook as an\n",
    "html file from the `File > Download as... > HTML` menu. Make sure you keep\n",
    "track of where the exported file goes, so you can put it in the same folder\n",
    "as this notebook for project submission. Also, make sure you remove all of\n",
    "the quote-formatted guide notes like this one before you finish your report!"
   ]
  },
  {
   "cell_type": "code",
   "execution_count": null,
   "metadata": {},
   "outputs": [],
   "source": []
  }
 ],
 "metadata": {
  "kernelspec": {
   "display_name": "Python 3",
   "language": "python",
   "name": "python3"
  },
  "language_info": {
   "codemirror_mode": {
    "name": "ipython",
    "version": 3
   },
   "file_extension": ".py",
   "mimetype": "text/x-python",
   "name": "python",
   "nbconvert_exporter": "python",
   "pygments_lexer": "ipython3",
   "version": "3.8.1"
  },
  "toc": {
   "base_numbering": 1,
   "nav_menu": {},
   "number_sections": false,
   "sideBar": true,
   "skip_h1_title": false,
   "title_cell": "Table of Contents",
   "title_sidebar": "Contents",
   "toc_cell": true,
   "toc_position": {},
   "toc_section_display": true,
   "toc_window_display": false
  }
 },
 "nbformat": 4,
 "nbformat_minor": 2
}
